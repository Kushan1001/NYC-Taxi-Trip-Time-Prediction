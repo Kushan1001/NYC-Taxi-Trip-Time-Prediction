{
  "nbformat": 4,
  "nbformat_minor": 0,
  "metadata": {
    "kernelspec": {
      "display_name": "Python 3",
      "language": "python",
      "name": "python3"
    },
    "language_info": {
      "codemirror_mode": {
        "name": "ipython",
        "version": 3
      },
      "file_extension": ".py",
      "mimetype": "text/x-python",
      "name": "python",
      "nbconvert_exporter": "python",
      "pygments_lexer": "ipython3",
      "version": "3.6.6"
    },
    "colab": {
      "name": " NYC Taxi Trip Time Prediction - Capstone Project.ipynb",
      "provenance": [],
      "collapsed_sections": [],
      "include_colab_link": true
    }
  },
  "cells": [
    {
      "cell_type": "markdown",
      "metadata": {
        "id": "view-in-github",
        "colab_type": "text"
      },
      "source": [
        "<a href=\"https://colab.research.google.com/github/Kushan1001/NYC-Taxi-Trip-Time-Prediction/blob/main/NYC_Taxi_Trip_Time_Prediction_Capstone_Project.ipynb\" target=\"_parent\"><img src=\"https://colab.research.google.com/assets/colab-badge.svg\" alt=\"Open In Colab\"/></a>"
      ]
    },
    {
      "cell_type": "markdown",
      "metadata": {
        "id": "tOGC-qoyhJeX"
      },
      "source": [
        "# <b><u> Project Title : Taxi trip time Prediction : Predicting total ride duration of taxi trips in New York City</u></b>"
      ]
    },
    {
      "cell_type": "markdown",
      "metadata": {
        "id": "Y06xIdG26kRF"
      },
      "source": [
        "## <b> Problem Description </b>\n",
        "\n",
        "### Your task is to build a model that predicts the total ride duration of taxi trips in New York City. Your primary dataset is one released by the NYC Taxi and Limousine Commission, which includes pickup time, geo-coordinates, number of passengers, and several other variables."
      ]
    },
    {
      "cell_type": "markdown",
      "metadata": {
        "id": "WWeU1f9bwqQq"
      },
      "source": [
        "## <b> Data Description </b>\n",
        "\n",
        "### The dataset is based on the 2016 NYC Yellow Cab trip record data made available in Big Query on Google Cloud Platform. The data was originally published by the NYC Taxi and Limousine Commission (TLC). The data was sampled and cleaned for the purposes of this project. Based on individual trip attributes, you should predict the duration of each trip in the test set.\n",
        "\n",
        "### <b>NYC Taxi Data.csv</b> - the training set (contains 1458644 trip records)\n",
        "\n",
        "\n",
        "### Data fields\n",
        "* #### id - a unique identifier for each trip\n",
        "* #### vendor_id - a code indicating the provider associated with the trip record\n",
        "* #### pickup_datetime - date and time when the meter was engaged\n",
        "* #### dropoff_datetime - date and time when the meter was disengaged\n",
        "* #### passenger_count - the number of passengers in the vehicle (driver entered value)\n",
        "* #### pickup_longitude - the longitude where the meter was engaged\n",
        "* #### pickup_latitude - the latitude where the meter was engaged\n",
        "* #### dropoff_longitude - the longitude where the meter was disengaged\n",
        "* #### dropoff_latitude - the latitude where the meter was disengaged\n",
        "* #### store_and_fwd_flag - This flag indicates whether the trip record was held in vehicle memory before sending to the vendor because the vehicle did not have a connection to the server - Y=store and forward; N=not a store and forward trip\n",
        "* #### trip_duration - duration of the trip in seconds"
      ]
    },
    {
      "cell_type": "markdown",
      "source": [
        "##**Set Up**"
      ],
      "metadata": {
        "id": "7EXACgraOOW6"
      }
    },
    {
      "cell_type": "code",
      "metadata": {
        "id": "dByMsuzT8Tnw"
      },
      "source": [
        "# Importing the required libraries\n",
        "\n",
        "import pandas as pd\n",
        "import numpy as np\n",
        "import matplotlib.pyplot as plt\n",
        "from matplotlib import rcParams\n",
        "import seaborn as sns\n",
        "\n",
        "import datetime as dt\n",
        "\n",
        "import warnings; warnings.filterwarnings('ignore')\n",
        "\n",
        "\n",
        "\n",
        "# setting some display options\n",
        "\n",
        "plt.rcParams[\"font.weight\"] = \"bold\"\n",
        "plt.rcParams[\"axes.labelweight\"] = \"bold\"\n",
        "plt.rcParams[\"axes.titlesize\"] = 16\n",
        "plt.rcParams[\"axes.titleweight\"] = 'bold'\n",
        "plt.rcParams['xtick.labelsize']=15\n",
        "plt.rcParams['ytick.labelsize']=15\n",
        "plt.rcParams[\"axes.labelsize\"] = 16\n",
        "plt.rcParams[\"legend.fontsize\"] = 15\n",
        "plt.rcParams[\"legend.title_fontsize\"] = 15\n"
      ],
      "execution_count": 58,
      "outputs": []
    },
    {
      "cell_type": "markdown",
      "source": [
        "##**Loading the dataset**"
      ],
      "metadata": {
        "id": "yVqCjUc8PKa-"
      }
    },
    {
      "cell_type": "code",
      "source": [
        "from google.colab import drive\n",
        "drive.mount('/content/drive')"
      ],
      "metadata": {
        "colab": {
          "base_uri": "https://localhost:8080/"
        },
        "id": "Nb83nHi5PRvY",
        "outputId": "ae6995c5-d38c-4013-9908-1d4d263053a5"
      },
      "execution_count": 59,
      "outputs": [
        {
          "output_type": "stream",
          "name": "stdout",
          "text": [
            "Drive already mounted at /content/drive; to attempt to forcibly remount, call drive.mount(\"/content/drive\", force_remount=True).\n"
          ]
        }
      ]
    },
    {
      "cell_type": "code",
      "source": [
        "# creating a pandas data-frame (taxi_df) for the dataset\n",
        "\n",
        "taxi_df = pd.read_csv('/content/drive/MyDrive/Capstone project -2/NYC Taxi Data.csv', index_col ='id' )"
      ],
      "metadata": {
        "id": "T7OtyapNPYs-"
      },
      "execution_count": null,
      "outputs": []
    },
    {
      "cell_type": "markdown",
      "source": [
        "##**Exploring the dataset**"
      ],
      "metadata": {
        "id": "FlQONCIBQLVc"
      }
    },
    {
      "cell_type": "code",
      "source": [
        "# checking the first five columns of the dataset\n",
        "\n",
        "taxi_df.head()"
      ],
      "metadata": {
        "id": "PXlwYHeJQQed"
      },
      "execution_count": null,
      "outputs": []
    },
    {
      "cell_type": "code",
      "source": [
        "# a glance of the whole dataset\n",
        "\n",
        "taxi_df.info()"
      ],
      "metadata": {
        "id": "Yr0PJpmuQpD1"
      },
      "execution_count": null,
      "outputs": []
    },
    {
      "cell_type": "code",
      "source": [
        "# checking the number of observations and features\n",
        "\n",
        "print(taxi_df.shape)\n",
        "print('Number of observations :', taxi_df.shape[0])\n",
        "print('Number of features :', taxi_df.shape[1])"
      ],
      "metadata": {
        "id": "9dUqR7DxRA5Y"
      },
      "execution_count": null,
      "outputs": []
    },
    {
      "cell_type": "code",
      "source": [
        "# features in the dataset\n",
        "\n",
        "taxi_df.columns"
      ],
      "metadata": {
        "id": "vstbe9dvRW_I"
      },
      "execution_count": null,
      "outputs": []
    },
    {
      "cell_type": "code",
      "source": [
        "# checking the null values\n",
        "\n",
        "taxi_df.isnull().sum()"
      ],
      "metadata": {
        "id": "hklWDfAPSt7g"
      },
      "execution_count": null,
      "outputs": []
    },
    {
      "cell_type": "markdown",
      "source": [
        "We have zero null values in the dataset"
      ],
      "metadata": {
        "id": "7Fe4v6poUhXg"
      }
    },
    {
      "cell_type": "code",
      "source": [
        "taxi_df.nunique().sort_values()"
      ],
      "metadata": {
        "id": "ldIhvOObWt3D"
      },
      "execution_count": null,
      "outputs": []
    },
    {
      "cell_type": "markdown",
      "source": [
        "\n",
        "\n",
        "*   There are two types of vendores:- 1 and 2\n",
        "*   Store and fwd flag takes two types of values:- Y and N\n",
        "*   Passenger count takes 10 different values\n",
        "\n",
        "\n",
        "\n",
        "\n"
      ],
      "metadata": {
        "id": "Ge3bR_MuXRt5"
      }
    },
    {
      "cell_type": "code",
      "source": [
        "# getting a descriptive summary of our dataset\n",
        "\n",
        "taxi_df.describe().applymap('{:,.5f}'.format)"
      ],
      "metadata": {
        "id": "Pel9HcXvYRs1"
      },
      "execution_count": null,
      "outputs": []
    },
    {
      "cell_type": "markdown",
      "source": [
        "\n",
        "*   Passenegrs count takes values b/w 0-9, average passengers being either 1 or 2.\n",
        "*   Max trip duration is 3526282 seconds or 980 hours aprrox which is not feasible. Clearly, there are some outliers present.\n",
        "\n",
        "\n"
      ],
      "metadata": {
        "id": "GeEdT0F8bV0o"
      }
    },
    {
      "cell_type": "markdown",
      "source": [
        "##**Feature Creation**"
      ],
      "metadata": {
        "id": "xyF-NY5yeAwc"
      }
    },
    {
      "cell_type": "markdown",
      "source": [
        "\n",
        "\n",
        "* Now we will convert pick and drop datetime from object type to python datetime.\n",
        "* It helps us to perform a lot more operations and makes our analysis better.  \n",
        "\n"
      ],
      "metadata": {
        "id": "4gjvxWcefPPh"
      }
    },
    {
      "cell_type": "code",
      "source": [
        "taxi_df['dropoff_datetime'] = pd.to_datetime(taxi_df['dropoff_datetime'])\n",
        "taxi_df['pickup_datetime'] = pd.to_datetime(taxi_df['pickup_datetime'])\n",
        "\n",
        "taxi_df[['dropoff_datetime', 'pickup_datetime']].dtypes"
      ],
      "metadata": {
        "id": "_TTHWOyIbxLO"
      },
      "execution_count": null,
      "outputs": []
    },
    {
      "cell_type": "markdown",
      "source": [
        "## Now let's extract"
      ],
      "metadata": {
        "id": "XbrEdTMShN9A"
      }
    },
    {
      "cell_type": "code",
      "source": [
        "#weekday\n",
        "taxi_df['pickup_weekday'] = taxi_df['pickup_datetime'].dt.weekday\n",
        "taxi_df['dropoff_weekday'] = taxi_df['dropoff_datetime'].dt.weekday\n",
        "\n",
        "#day\n",
        "taxi_df['pickup_day'] = taxi_df['pickup_datetime'].dt.day\n",
        "taxi_df['dropoff_day'] = taxi_df['dropoff_datetime'].dt.day\n",
        "\n",
        "\n",
        "#month\n",
        "taxi_df['pickup_month'] = taxi_df['pickup_datetime'].dt.month\n",
        "taxi_df['dropoff_month'] = taxi_df['dropoff_datetime'].dt.month\n",
        "\n",
        "\n",
        "#year\n",
        "taxi_df['pickup_year'] = taxi_df['pickup_datetime'].dt.year\n",
        "taxi_df['dropoff_year'] = taxi_df['dropoff_datetime'].dt.year\n",
        "\n",
        "\n",
        "#hour\n",
        "taxi_df['pickup_hour'] = taxi_df['pickup_datetime'].dt.hour\n",
        "taxi_df['dropoff_hour'] = taxi_df['dropoff_datetime'].dt.hour\n",
        "\n"
      ],
      "metadata": {
        "id": "J5bJuy0OhL0W"
      },
      "execution_count": null,
      "outputs": []
    },
    {
      "cell_type": "markdown",
      "source": [
        "## Now let's calculate distance travelled"
      ],
      "metadata": {
        "id": "ThnhhBF-lrRo"
      }
    },
    {
      "cell_type": "markdown",
      "source": [
        "To calculate distance we will be using haversine formula"
      ],
      "metadata": {
        "id": "KwNSBJRFl10F"
      }
    },
    {
      "cell_type": "code",
      "source": [
        "# intsalling the haversine library\n",
        "\n",
        "!pip install haversine"
      ],
      "metadata": {
        "id": "JGXz1piEm2dD"
      },
      "execution_count": null,
      "outputs": []
    },
    {
      "cell_type": "code",
      "source": [
        "# importing the library\n",
        "\n",
        "from haversine import haversine"
      ],
      "metadata": {
        "id": "O55n2oBpmjRz"
      },
      "execution_count": null,
      "outputs": []
    },
    {
      "cell_type": "code",
      "source": [
        "''' creating a new column trip distance which the stores total distance travelled calculated using the\n",
        " haversine library'''\n",
        "\n",
        "'''the distance calculated will be in kms'''\n",
        "\n",
        "taxi_df['trip_distance'] = taxi_df.apply(lambda x: haversine((x['pickup_latitude'], x['pickup_longitude']),\n",
        "                                                        (x['dropoff_latitude'], x['dropoff_longitude']), unit = 'km'), axis = 1)"
      ],
      "metadata": {
        "id": "HZwBQ9f-m74e"
      },
      "execution_count": null,
      "outputs": []
    },
    {
      "cell_type": "code",
      "source": [
        "taxi_df.head()"
      ],
      "metadata": {
        "id": "0-ZrbOJyqkbc"
      },
      "execution_count": null,
      "outputs": []
    },
    {
      "cell_type": "markdown",
      "source": [
        "##**Preprocessing**"
      ],
      "metadata": {
        "id": "02UCnaGusCsV"
      }
    },
    {
      "cell_type": "markdown",
      "source": [
        "Since we have already extracted from pickup and dropoff datetime, let's drop these columns"
      ],
      "metadata": {
        "id": "GsMUn-rqtk0f"
      }
    },
    {
      "cell_type": "code",
      "source": [
        "taxi_df.drop(columns = ['pickup_datetime', 'dropoff_datetime'], inplace = True)"
      ],
      "metadata": {
        "id": "IYxFhpeSsAbH"
      },
      "execution_count": null,
      "outputs": []
    },
    {
      "cell_type": "markdown",
      "source": [
        "Now we will covert the column store and fwd flag in binary values 0 and 1"
      ],
      "metadata": {
        "id": "2vnvWPR1uQfm"
      }
    },
    {
      "cell_type": "code",
      "source": [
        "''' store and fwd flag takes only two values N and Y. So we can encode them as 0 for N\n",
        " and 1 for Y'''\n",
        "\n",
        "print(taxi_df['store_and_fwd_flag'].unique())"
      ],
      "metadata": {
        "id": "jExbVi_2uOkT"
      },
      "execution_count": null,
      "outputs": []
    },
    {
      "cell_type": "markdown",
      "source": [
        "We will do this with the of python class LabelEncoder"
      ],
      "metadata": {
        "id": "J614uKxyxlhQ"
      }
    },
    {
      "cell_type": "code",
      "source": [
        "from sklearn.preprocessing import LabelEncoder # importing the class LabelEncoder\n",
        "\n",
        "label_encoder = LabelEncoder() # creating an object of the class labelEncoder \n",
        "\n",
        "taxi_df['store_and_fwd_flag'] = label_encoder.fit_transform(taxi_df['store_and_fwd_flag']) # apply the method fit_transform of LabelEncoder\n",
        "                                                                                           # to convert them into binary values"
      ],
      "metadata": {
        "id": "IBzq3kM7wwY9"
      },
      "execution_count": null,
      "outputs": []
    },
    {
      "cell_type": "code",
      "source": [
        "print(taxi_df['store_and_fwd_flag'].unique())"
      ],
      "metadata": {
        "id": "d0dapq8HxbQt"
      },
      "execution_count": null,
      "outputs": []
    },
    {
      "cell_type": "markdown",
      "source": [
        "##**Exploratory Data Analysis**"
      ],
      "metadata": {
        "id": "RZZX7i-a0ZmM"
      }
    },
    {
      "cell_type": "markdown",
      "source": [
        "##Checking for Outliers"
      ],
      "metadata": {
        "id": "Bwt8tOr6zGf9"
      }
    },
    {
      "cell_type": "code",
      "source": [
        "rcParams['figure.figsize'] = 20,10\n",
        "\n",
        "sns.boxplot(taxi_df['trip_duration'])\n",
        "plt.xlabel('Trip duration')\n",
        "plt.title('Boxplot showing outliers in trip duration');"
      ],
      "metadata": {
        "id": "mqj35bMEyjok"
      },
      "execution_count": null,
      "outputs": []
    },
    {
      "cell_type": "markdown",
      "source": [
        "From the boxplot we can see that there are some trips which are around 2000000 seconds or 555 hours and beyond. Clearly, it's not feasible for a taxi to run that long. Hence we will get rid of such trips."
      ],
      "metadata": {
        "id": "X_O-eFF22HFk"
      }
    },
    {
      "cell_type": "code",
      "source": [
        "taxi_df['trip_duration'].sort_values(ascending = False)"
      ],
      "metadata": {
        "id": "0sbKZZYk1RLv"
      },
      "execution_count": null,
      "outputs": []
    },
    {
      "cell_type": "code",
      "source": [
        "# There are major differences b/w trip durations after 'id1942836'. Thus, we will remove the trips after that id\n",
        "\n",
        "taxi_df.drop(taxi_df[taxi_df['trip_duration'] == 3526282].index, inplace = True)\n",
        "taxi_df.drop(taxi_df[taxi_df['trip_duration'] == 2227612].index, inplace = True)\n",
        "taxi_df.drop(taxi_df[taxi_df['trip_duration'] == 2049578].index, inplace = True)\n",
        "taxi_df.drop(taxi_df[taxi_df['trip_duration'] == 1939736].index, inplace = True)\n"
      ],
      "metadata": {
        "id": "_RuRmHKr3cgA"
      },
      "execution_count": null,
      "outputs": []
    },
    {
      "cell_type": "markdown",
      "source": [
        "##Univariate Analysis"
      ],
      "metadata": {
        "id": "AqVGIcDN-WGr"
      }
    },
    {
      "cell_type": "markdown",
      "source": [
        "###Average trip duration"
      ],
      "metadata": {
        "id": "JRBtAojj8tEv"
      }
    },
    {
      "cell_type": "code",
      "source": [
        "rcParams['figure.figsize'] = 10,7\n",
        "\n",
        "sns.histplot(data = taxi_df, x= 'trip_duration', color = 'brown')\n",
        "plt.xlim(0,6000)\n",
        "plt.xlabel('Trip Duration')\n",
        "plt.axvline(taxi_df['trip_duration'].mean(), linestyle = 'dashed', color = 'magenta', linewidth = 2)\n",
        "plt.axvline(taxi_df['trip_duration'].median(), linestyle = 'dashed', color = 'black', linewidth = 2)\n",
        "plt.title('Distribution of trip duration')\n",
        "plt.show();"
      ],
      "metadata": {
        "id": "1-58MC598qdM"
      },
      "execution_count": null,
      "outputs": []
    },
    {
      "cell_type": "markdown",
      "source": [
        "##**Insights**\n",
        "\n",
        "\n",
        "*   Average trip duration is around 500 seconds or 8.5 minutes \n",
        "\n"
      ],
      "metadata": {
        "id": "rCV0IYIO_BQL"
      }
    },
    {
      "cell_type": "markdown",
      "source": [
        "###Distribution of Vendor ID"
      ],
      "metadata": {
        "id": "r2Br0I83BSoA"
      }
    },
    {
      "cell_type": "code",
      "source": [
        "rcParams['figure.figsize'] = 6,6\n",
        "\n",
        "sns.countplot(taxi_df['vendor_id'])\n",
        "plt.title('Distibution of Vendor ID')\n",
        "plt.xlabel('vendor ID')\n",
        "plt.show();"
      ],
      "metadata": {
        "id": "C0Eux0tu-KKr"
      },
      "execution_count": null,
      "outputs": []
    },
    {
      "cell_type": "markdown",
      "source": [
        "###**Insights**\n",
        "\n",
        "*  From the plot we can infer that vendor-2 is more preferred by the people of New York\n",
        "\n",
        "\n"
      ],
      "metadata": {
        "id": "MRL8YvMz_mJq"
      }
    },
    {
      "cell_type": "markdown",
      "source": [
        "###Distribution of passenger count "
      ],
      "metadata": {
        "id": "mY1lU00WBc_G"
      }
    },
    {
      "cell_type": "code",
      "source": [
        "rcParams['figure.figsize'] = 10,6\n",
        "\n",
        "sns.countplot(taxi_df['passenger_count'])\n",
        "plt.title('Distribution of passenegers count')\n",
        "plt.xlabel('Passenger count')\n",
        "plt.show();"
      ],
      "metadata": {
        "id": "6DdR9Df2BQgm"
      },
      "execution_count": null,
      "outputs": []
    },
    {
      "cell_type": "markdown",
      "source": [
        "###**Insights**\n",
        "\n",
        "* Above barplot shows us that the most trips are done by either 1 or 2 passengers at a time\n",
        "\n",
        "\n"
      ],
      "metadata": {
        "id": "JyYgicBaCdFQ"
      }
    },
    {
      "cell_type": "markdown",
      "source": [
        "###Distribution of pickup latitude"
      ],
      "metadata": {
        "id": "72OiEPrdEuDy"
      }
    },
    {
      "cell_type": "code",
      "source": [
        "plt.figure(figsize=(15 , 8))\n",
        "\n",
        "pickups_by_weekdays = taxi_df['pickup_weekday'].value_counts()\n",
        "pickups_by_weekdays.sort_index().plot(kind = 'bar')\n",
        "plt.title('Distribution of trips per day')\n",
        "plt.xticks(rotation = 0, ticks= [0,1,2,3,4,5,6], labels = ['Mon', 'Tues', 'Wed', 'Thurs', 'Fri', 'Sat', 'Sun'])\n",
        "plt.xlabel('Days')\n",
        "plt.ylabel('Count')\n",
        "plt.show();"
      ],
      "metadata": {
        "id": "-KPikxhuE1hG"
      },
      "execution_count": null,
      "outputs": []
    },
    {
      "cell_type": "markdown",
      "source": [
        "###**Insights**\n",
        "\n",
        "\n",
        "*   Thurday, Friday and Saturday are the preferred for riding a cab\n",
        "\n",
        "*   Monday and Sunday are least preferred by New Yorkers\n",
        "\n"
      ],
      "metadata": {
        "id": "ZItBfIoa7xSx"
      }
    },
    {
      "cell_type": "markdown",
      "source": [
        "###Distribution of Pickup hours\n"
      ],
      "metadata": {
        "id": "vsPNkJ15z7id"
      }
    },
    {
      "cell_type": "code",
      "source": [
        "rcParams['figure.figsize'] = 20,7 \n",
        "\n",
        "sns.countplot(data = taxi_df, x= 'pickup_hour', color = 'orange')\n",
        "plt.title('Distribution of Pickup hours')\n",
        "plt.xlabel('Pickup hour')\n",
        "plt.show();"
      ],
      "metadata": {
        "id": "wrF6NaOH0bx3"
      },
      "execution_count": null,
      "outputs": []
    },
    {
      "cell_type": "markdown",
      "source": [
        "###**Insights**\n",
        "\n",
        "\n",
        "*   People prefers taxis from 8 in the morning (probably office hours) and this growth increases with time.\n",
        "\n",
        "*   6-7 in evening is the most preferred time by the new yorkers\n",
        "\n",
        "* This graph also shows that new yorkers also prefer riding a cab at night as well 10pm - 12am\n",
        "\n",
        "\n"
      ],
      "metadata": {
        "id": "OzudQC7G4USQ"
      }
    },
    {
      "cell_type": "markdown",
      "source": [
        "###Distribution of pickup month"
      ],
      "metadata": {
        "id": "zNOECKeBBFRY"
      }
    },
    {
      "cell_type": "code",
      "source": [
        "rcParams['figure.figsize'] = 15,7 \n",
        "\n",
        "sns.countplot(data = taxi_df, x= 'pickup_month', color = 'lightgreen')\n",
        "plt.title('Distribution of Pickup month')\n",
        "plt.xlabel('Pickup month')\n",
        "plt.show();"
      ],
      "metadata": {
        "id": "0_vvVSOJBEp8"
      },
      "execution_count": null,
      "outputs": []
    },
    {
      "cell_type": "markdown",
      "source": [
        "###**Insights**\n",
        "\n",
        "\n",
        "*   Most new yorkers prefer riding a cab in March and April, closely followed by February and May\n",
        "\n",
        "\n"
      ],
      "metadata": {
        "id": "YpRSgh71BpkZ"
      }
    },
    {
      "cell_type": "markdown",
      "source": [
        "###Distribution of pickup day"
      ],
      "metadata": {
        "id": "0PcU57PZCBAZ"
      }
    },
    {
      "cell_type": "code",
      "source": [
        "rcParams['figure.figsize'] = 22,7 \n",
        "\n",
        "sns.countplot(data = taxi_df, x= 'pickup_day', color = 'coral')\n",
        "plt.title('Distribution of Pickup day')\n",
        "plt.xlabel('Pickup day')\n",
        "plt.show();"
      ],
      "metadata": {
        "id": "aYyVs6SXCdjU"
      },
      "execution_count": null,
      "outputs": []
    },
    {
      "cell_type": "markdown",
      "source": [
        "###**Insights**\n",
        "\n",
        "\n",
        "*   All the days of a month are more or less evenly distributed except for 30th and 31st that witnesses a sharp decline in taxi rides.\n",
        "\n",
        "\n"
      ],
      "metadata": {
        "id": "wCeCjonPCtqw"
      }
    },
    {
      "cell_type": "markdown",
      "source": [
        "###Average trip distance"
      ],
      "metadata": {
        "id": "eIN3Q0HiB3rR"
      }
    },
    {
      "cell_type": "code",
      "source": [
        "rcParams['figure.figsize'] = 10,7\n",
        "\n",
        "sns.histplot(data = taxi_df, x= 'trip_distance', color = 'green')\n",
        "plt.xlim(0,30)\n",
        "plt.xlabel('Trip Distance')\n",
        "plt.axvline(taxi_df['trip_distance'].mean(), linestyle = 'dashed', color = 'magenta', linewidth = 2)\n",
        "plt.axvline(taxi_df['trip_distance'].median(), linestyle = 'dashed', color = 'black', linewidth = 2)\n",
        "plt.title('Distribution of trip distance')\n",
        "plt.show();"
      ],
      "metadata": {
        "id": "x9C5ulXx4jqL"
      },
      "execution_count": null,
      "outputs": []
    },
    {
      "cell_type": "markdown",
      "source": [
        "###**Insights**\n",
        "\n",
        "Average trip distance is around 3-4km which is reasonable since our trips last only for 7-8 minutes"
      ],
      "metadata": {
        "id": "twiRr996DlZv"
      }
    },
    {
      "cell_type": "markdown",
      "source": [
        "##Distribiution of store and fwd flag"
      ],
      "metadata": {
        "id": "nMR02-svDQ5M"
      }
    },
    {
      "cell_type": "code",
      "source": [
        "rcParams['figure.figsize'] = 5,5\n",
        "\n",
        "explode = [0.4,0]\n",
        "colors = ['lightpink','lightblue']\n",
        "plt.pie(taxi_df['store_and_fwd_flag'].value_counts(), wedgeprops={'edgecolor':'black'},autopct='%1.1f%%',\n",
        "        explode = explode, radius = 1.6,colors = colors, shadow = 'True')\n",
        "\n",
        "plt.title('Proportion of store and fwd flag', x = 0.3, y= 1.2)\n",
        "plt.legend(labels=['N','Y'])\n",
        "\n",
        "\n",
        "plt.tight_layout();"
      ],
      "metadata": {
        "id": "P8jT-bjYDZJK"
      },
      "execution_count": null,
      "outputs": []
    },
    {
      "cell_type": "markdown",
      "source": [
        "##**Insights**\n",
        "\n",
        "\n",
        "* From the piechart we can see that less than 1% of trips are stored and forward trips\n",
        "\n"
      ],
      "metadata": {
        "id": "hUidJG8gJlLF"
      }
    },
    {
      "cell_type": "markdown",
      "source": [
        "##Bivariate Analysis"
      ],
      "metadata": {
        "id": "1tp72eioKI4a"
      }
    },
    {
      "cell_type": "markdown",
      "source": [
        "###Relationship b/w Vendor ID and trip duration"
      ],
      "metadata": {
        "id": "hq-ojW9dREv4"
      }
    },
    {
      "cell_type": "code",
      "source": [
        "rcParams['figure.figsize'] = 15,10\n",
        "\n",
        "sns.catplot(data = taxi_df, x = 'vendor_id', y = 'trip_duration', \n",
        "            palette = 'winter', kind = 'bar')\n",
        "plt.title('Relationship b/w vendor Id and trip duration')\n",
        "plt.ylabel('Trip Duration')\n",
        "plt.xlabel('Vendor ID')\n",
        "plt.show();\n"
      ],
      "metadata": {
        "id": "APiqEjK5KUYu"
      },
      "execution_count": null,
      "outputs": []
    },
    {
      "cell_type": "markdown",
      "source": [
        "###**Insights**\n",
        "\n",
        "* It can clearly seen that the vendor 2 gets trips with more duration relative to the vendor 1"
      ],
      "metadata": {
        "id": "4DYjtkEQUtbo"
      }
    },
    {
      "cell_type": "markdown",
      "source": [
        "###Relationship b/w store and fwd trip and trip duration"
      ],
      "metadata": {
        "id": "CP-vg5bEVxPu"
      }
    },
    {
      "cell_type": "code",
      "source": [
        "rcParams['figure.figsize'] = 15,10\n",
        "\n",
        "sns.catplot(data = taxi_df, x = 'store_and_fwd_flag', y = 'trip_duration', \n",
        "            palette = 'winter', kind = 'strip', jitter = True)\n",
        "plt.title('Relationship b/w store and fwd trip and trip duration')\n",
        "plt.ylabel('Trip Duration')\n",
        "plt.xlabel(' Store and fwd trip')\n",
        "plt.xticks(ticks = [0,1], labels = ['No', 'Yes'])\n",
        "plt.show();"
      ],
      "metadata": {
        "id": "ehSwRr4JeHmN"
      },
      "execution_count": null,
      "outputs": []
    },
    {
      "cell_type": "markdown",
      "source": [
        "###**Insights**\n",
        "\n",
        "\n",
        "*   Trips which are not stored and forwarded have longer duration relative to trips which are stored and forwared.\n",
        "\n",
        "\n"
      ],
      "metadata": {
        "id": "YgKgLllV3ooB"
      }
    },
    {
      "cell_type": "markdown",
      "source": [
        "###Relationship b/w Passeneger count and Trip duration"
      ],
      "metadata": {
        "id": "r-6CDNWdGyBk"
      }
    },
    {
      "cell_type": "code",
      "source": [
        "rcParams['figure.figsize'] = 15,10\n",
        "\n",
        "sns.catplot(data = taxi_df, x = 'passenger_count', y = 'trip_duration', \n",
        "           kind = 'strip', jitter = True)\n",
        "plt.title('Relationship b/w Passenger_count and trip duration')\n",
        "plt.ylabel('Trip Duration')\n",
        "plt.xlabel('Passenger count')\n",
        "plt.show();"
      ],
      "metadata": {
        "id": "TAr78in0ECyD"
      },
      "execution_count": null,
      "outputs": []
    },
    {
      "cell_type": "markdown",
      "source": [
        "###**Insights**\n",
        "\n",
        "\n",
        "*   There is no clear correlation b/w passengers and trip duration\n",
        "\n",
        "\n"
      ],
      "metadata": {
        "id": "SFKx3RL6GBXN"
      }
    },
    {
      "cell_type": "markdown",
      "source": [
        "###Relationship b/w Pickup weekday and Trip duaration\n"
      ],
      "metadata": {
        "id": "EM11L5UcAK9G"
      }
    },
    {
      "cell_type": "code",
      "source": [
        "rcParams['figure.figsize'] = 15,8\n",
        "\n",
        "sns.pointplot(data =taxi_df, x = 'pickup_weekday', y = 'trip_duration')\n",
        "\n",
        "plt.title('Relationship b/w Pickup weekday and Trip duaration')\n",
        "plt.xlabel('Pickup weekday ')\n",
        "plt.ylabel('Trip duration')\n",
        "plt.xticks(ticks = [0,1,2,3,4,5,6], labels = ['Mon','Tues', 'Wed', 'Thurs', 'Fri', 'Sat','Sun'])\n",
        "plt.show();\n"
      ],
      "metadata": {
        "id": "nh0-_NOqfNtE"
      },
      "execution_count": null,
      "outputs": []
    },
    {
      "cell_type": "markdown",
      "source": [
        "##**Insights**\n",
        "\n",
        "\n",
        "* On Thursday new yorkers longest duration trips, followed by Friday and Wednesday\n",
        "\n",
        "* However, on weekends new yorkers prefer shortest duration trips\n",
        "\n"
      ],
      "metadata": {
        "id": "jTlSual92u5k"
      }
    },
    {
      "cell_type": "markdown",
      "source": [
        "###Relationship b/w Pickup hour and Trip duration"
      ],
      "metadata": {
        "id": "nh12DPPiAXIj"
      }
    },
    {
      "cell_type": "code",
      "source": [
        "rcParams['figure.figsize'] = 15,8\n",
        "\n",
        "sns.pointplot(data =taxi_df, x = 'pickup_hour', y = 'trip_duration')\n",
        "\n",
        "plt.title('Relationship b/w Pickup hour and Trip duration')\n",
        "plt.xlabel('Pickup hour')\n",
        "plt.ylabel('Trip duration')\n",
        "plt.show();"
      ],
      "metadata": {
        "id": "Smx2_obDy8_L"
      },
      "execution_count": null,
      "outputs": []
    },
    {
      "cell_type": "markdown",
      "source": [
        "##**Insights**\n",
        "\n",
        "\n",
        "*   During afternoons (14-16 or 2pm-4pm) we see the longest duration trips.\n",
        "*   On the other hand, during early mornings (6am) we see the shortest duration trips\n",
        "\n"
      ],
      "metadata": {
        "id": "fcn-v_Zk4xAK"
      }
    },
    {
      "cell_type": "markdown",
      "source": [
        "###Relationship b/w Pickup month and Trip duration"
      ],
      "metadata": {
        "id": "QuLtucRVAi5b"
      }
    },
    {
      "cell_type": "code",
      "source": [
        "rcParams['figure.figsize'] = 15,8\n",
        "\n",
        "sns.pointplot(data =taxi_df, x = 'pickup_month', y = 'trip_duration')\n",
        "\n",
        "plt.title('Relationship b/w Pickup month and Trip duration')\n",
        "plt.xlabel('Pickup month')\n",
        "plt.ylabel('Trip duration')\n",
        "plt.show();"
      ],
      "metadata": {
        "id": "XJxp2NiilEsE"
      },
      "execution_count": null,
      "outputs": []
    },
    {
      "cell_type": "markdown",
      "source": [
        "##**Insights**\n",
        "\n",
        "\n",
        "*   Duaration of trips increase with every next month. However, after reaching the 6th month or June the rate of increase has slightly slowed down.\n",
        "\n",
        "\n"
      ],
      "metadata": {
        "id": "vqITHUPA6ZK-"
      }
    },
    {
      "cell_type": "markdown",
      "source": [
        "###Relationship b/w Pickup day and Trip duration"
      ],
      "metadata": {
        "id": "qiz4xPs5As7t"
      }
    },
    {
      "cell_type": "code",
      "source": [
        "rcParams['figure.figsize'] = 20,8\n",
        "\n",
        "sns.pointplot(data =taxi_df, x = 'pickup_day', y = 'trip_duration')\n",
        "\n",
        "plt.title('Relationship b/w Pickup day and Trip duration')\n",
        "plt.xlabel('Pickup day')\n",
        "plt.ylabel('Trip duration')\n",
        "plt.show();"
      ],
      "metadata": {
        "id": "cBQjqkQXlk-b"
      },
      "execution_count": null,
      "outputs": []
    },
    {
      "cell_type": "markdown",
      "source": [
        "###**Insights**\n",
        "\n",
        "\n",
        "*   On 7th and 30th trip duration is at its lowest.\n",
        "*   However, on 3rd, 17, 24th, 25th and 26th trip duration is the highest.\n",
        "\n"
      ],
      "metadata": {
        "id": "Ch5Zl4218wHa"
      }
    },
    {
      "cell_type": "markdown",
      "source": [
        "###Relationship b/w Pickup latitude and longitude & Trip duration"
      ],
      "metadata": {
        "id": "UmgCegE8Nhrh"
      }
    },
    {
      "cell_type": "code",
      "source": [
        "rcParams['figure.figsize'] = 15,8\n",
        "plt.scatter(data = taxi_df, x = 'pickup_latitude', y = 'pickup_longitude', c = 'trip_duration', s = 200)\n",
        "cbar = plt.colorbar(orientation = 'vertical', extend = 'both', pad = 0.05, aspect = 20 )\n",
        "cbar.set_label(label = 'Trip duration', size = 15, x = 1.5)\n",
        "plt.xlabel('Pickup latitude')\n",
        "plt.ylabel('Pickup longitude')\n",
        "plt.title('Relationship b/w Pickup latitude and longitude & Trip duration')\n",
        "plt.clim(0,2000)\n",
        "plt.show();"
      ],
      "metadata": {
        "id": "8ESr4gHh8vvU"
      },
      "execution_count": null,
      "outputs": []
    },
    {
      "cell_type": "markdown",
      "source": [
        "###**Insights**\n",
        "\n",
        "\n",
        "*   Generally pickups are concentrated between latittude(40-42.5 degrees) and longitude(-75 degrees) are their trip duration is generally between 0-1000 seconds\n",
        "\n"
      ],
      "metadata": {
        "id": "HEWGaDQsOjHJ"
      }
    },
    {
      "cell_type": "markdown",
      "source": [
        "###Relationship b/w Dropoff latitude and longitude & Trip duration"
      ],
      "metadata": {
        "id": "MWEk3RZXOaMW"
      }
    },
    {
      "cell_type": "code",
      "source": [
        "rcParams['figure.figsize'] = 15,8\n",
        "plt.scatter(data = taxi_df, x = 'dropoff_latitude', y = 'dropoff_longitude', c = 'trip_duration', s = 200)\n",
        "cbar = plt.colorbar(orientation = 'vertical', extend = 'both', pad = 0.05, aspect = 20 )\n",
        "cbar.set_label(label = 'Trip duration', size = 15, x = 1.5)\n",
        "plt.xlabel('dropoff latitude')\n",
        "plt.ylabel('dropoff longitude')\n",
        "plt.title('Relationship b/w Dropoff latitude and longitude & Trip duration')\n",
        "plt.clim(0,5000)\n",
        "plt.show();"
      ],
      "metadata": {
        "id": "P_CEi1DHlKwu"
      },
      "execution_count": null,
      "outputs": []
    },
    {
      "cell_type": "markdown",
      "source": [
        "###**Insights**\n",
        "\n",
        "\n",
        "*   Generally dropoffs are concentrated between latittude(40-42 degrees) and longitude(-72 degrees) are their trip duration is generally between 0-2000 seconds.\n",
        "\n",
        "\n"
      ],
      "metadata": {
        "id": "NfNm2InrQtvF"
      }
    },
    {
      "cell_type": "markdown",
      "source": [
        "###Relationship b/w Trip distance and Trip duration"
      ],
      "metadata": {
        "id": "vSD9JnOmib47"
      }
    },
    {
      "cell_type": "code",
      "source": [
        "rcParams['figure.figsize'] = 15,8\n",
        "\n",
        "plt.scatter(data = taxi_df, x = 'trip_distance', y = 'trip_duration')\n",
        "plt.xlabel('Trip distance')\n",
        "plt.ylabel('Trip duration')\n",
        "plt.title('Relationship b/w Trip distance and Trip duration')\n",
        "plt.show();"
      ],
      "metadata": {
        "id": "hGaykvHNR2JP"
      },
      "execution_count": null,
      "outputs": []
    },
    {
      "cell_type": "markdown",
      "source": [
        "###**Insights**\n",
        "\n",
        "\n",
        "*   We can see that there are trips with distance as short as 0 km with duration more than 8000 seconds which is clearly impossible.\n",
        "\n",
        "\n"
      ],
      "metadata": {
        "id": "rYkuvyXnluCh"
      }
    },
    {
      "cell_type": "markdown",
      "source": [
        "##**Feature Scaling**"
      ],
      "metadata": {
        "id": "APzjlzZpmzeA"
      }
    },
    {
      "cell_type": "markdown",
      "source": [
        "###Dividing the dataset into dependent and independent columns"
      ],
      "metadata": {
        "id": "9EK8Vmsqq1E1"
      }
    },
    {
      "cell_type": "code",
      "source": [
        "X = taxi_df.drop(columns = 'trip_duration') # independent variables/ features \n",
        "y = taxi_df['trip_duration'] # target variable"
      ],
      "metadata": {
        "id": "hsApeYivp-qz"
      },
      "execution_count": null,
      "outputs": []
    },
    {
      "cell_type": "markdown",
      "source": [
        "###Using log transformation to remove skewness from our target variable"
      ],
      "metadata": {
        "id": "7wE8e7AWrM8D"
      }
    },
    {
      "cell_type": "code",
      "source": [
        "y = np.log10(y)"
      ],
      "metadata": {
        "id": "D6ArVikVqL5O"
      },
      "execution_count": null,
      "outputs": []
    },
    {
      "cell_type": "markdown",
      "source": [
        "###Scaling independent variables using StandardScaler"
      ],
      "metadata": {
        "id": "1N0otib0taYx"
      }
    },
    {
      "cell_type": "code",
      "source": [
        "from sklearn.preprocessing import StandardScaler\n",
        "scaler = StandardScaler() # creating an object of class StandardScaler\n",
        "print(scaler)"
      ],
      "metadata": {
        "id": "74Yw8s7mm68H"
      },
      "execution_count": null,
      "outputs": []
    },
    {
      "cell_type": "code",
      "source": [
        "X = scaler.fit_transform(X)"
      ],
      "metadata": {
        "id": "D2b5qEwoo5bv"
      },
      "execution_count": null,
      "outputs": []
    },
    {
      "cell_type": "markdown",
      "source": [
        "##**Implementing Linear Regression**"
      ],
      "metadata": {
        "id": "7o0QF8Qmui20"
      }
    },
    {
      "cell_type": "code",
      "source": [
        "from sklearn.model_selection import train_test_split \n",
        "\n",
        "# splitting the dataset into 80-20 ratio\n",
        "# 0.8 for training and 0.2 for testing\n",
        "X_train, X_test, y_train, y_test = train_test_split(X, y, test_size = 0.2, random_state = 0)\n",
        "\n",
        "print(X_train.shape)\n",
        "print(X_test.shape)"
      ],
      "metadata": {
        "id": "OX3TJrcCuiUG"
      },
      "execution_count": null,
      "outputs": []
    },
    {
      "cell_type": "code",
      "source": [
        "from sklearn.linear_model import LinearRegression\n",
        "\n",
        "linear_reg = LinearRegression() \n",
        "linear_reg_fit = linear_reg.fit(X_train, y_train)"
      ],
      "metadata": {
        "id": "ZbF-wX6TvI1z"
      },
      "execution_count": null,
      "outputs": []
    },
    {
      "cell_type": "code",
      "source": [
        "# coefficients of the model\n",
        "\n",
        "linear_reg_fit.intercept_ , linear_reg_fit.coef_"
      ],
      "metadata": {
        "id": "XuXlCSRPxJu9"
      },
      "execution_count": null,
      "outputs": []
    },
    {
      "cell_type": "code",
      "source": [
        "#predicting results\n",
        "\n",
        "linear_reg_pred = linear_reg.predict(X_test)\n",
        "linear_reg_pred"
      ],
      "metadata": {
        "id": "sfCkn93HxSvI"
      },
      "execution_count": null,
      "outputs": []
    },
    {
      "cell_type": "code",
      "source": [
        "# examining scores\n",
        "\n",
        "print('Training score :', linear_reg.score(X_train, y_train))\n",
        "print('Validation score :', linear_reg.score(X_test, y_test))"
      ],
      "metadata": {
        "id": "Sr7h2a7-ERaq"
      },
      "execution_count": null,
      "outputs": []
    },
    {
      "cell_type": "markdown",
      "source": [
        "###Evaluating Regression Metrics"
      ],
      "metadata": {
        "id": "fqoQzuDzBRw-"
      }
    },
    {
      "cell_type": "code",
      "source": [
        "from sklearn.metrics import mean_squared_error\n",
        "from sklearn.metrics import r2_score"
      ],
      "metadata": {
        "id": "WqLHiS7Ex-5G"
      },
      "execution_count": null,
      "outputs": []
    },
    {
      "cell_type": "code",
      "source": [
        "MSE = mean_squared_error(y_test, linear_reg_pred)\n",
        "print('MSE :', MSE)\n",
        "\n",
        "RMSE = np.sqrt(MSE)\n",
        "print('RMSE :', RMSE)\n",
        "\n",
        "r2 = r2_score(y_test, linear_reg_pred)\n",
        "print('R2 score:', r2)\n",
        "\n",
        "adj_r2 = 1-(1-r2_score(y_test, linear_reg_pred)) * ((X_test.shape[0]-1)/(X_test.shape[0]-X_test.shape[1]-1))\n",
        "print('Adjusted R2 :', adj_r2)"
      ],
      "metadata": {
        "id": "jIqt5F9UCWzX"
      },
      "execution_count": null,
      "outputs": []
    },
    {
      "cell_type": "code",
      "source": [
        "rcParams['figure.figsize'] = 15,8\n",
        "plt.subplot(1,1,1)\n",
        "sns.distplot(y_test, kde = False,  label=\"Test\")\n",
        "\n",
        "plt.subplot(1,1,1)\n",
        "sns.distplot(linear_reg_pred, kde = False, label= 'Prediction')\n",
        "plt.legend()\n",
        "plt.title('Test VS Prediction')\n",
        "plt.show();"
      ],
      "metadata": {
        "id": "YKZH0FTwAO66"
      },
      "execution_count": null,
      "outputs": []
    },
    {
      "cell_type": "markdown",
      "source": [
        "##**Lasso Regresssion**"
      ],
      "metadata": {
        "id": "-knxA82VBleW"
      }
    },
    {
      "cell_type": "code",
      "source": [
        "from sklearn.linear_model import Lasso\n",
        "\n",
        "lasso= Lasso()\n",
        "lasso_fit =lasso.fit(X_train , y_train)"
      ],
      "metadata": {
        "id": "3xXAqJA_Bg5s"
      },
      "execution_count": null,
      "outputs": []
    },
    {
      "cell_type": "code",
      "source": [
        "from sklearn.model_selection import GridSearchCV\n",
        "\n",
        "parameters = {'alpha': [1e-15, 1e-10, 1e-5, 1e-2, 1e-1, 1, 5, 10, 15, 20, 25]}\n",
        "lasso_grid = GridSearchCV(lasso_fit , parameters, scoring='neg_mean_squared_error', cv=5)\n",
        "lasso_grid = lasso_grid.fit(X_train,y_train)"
      ],
      "metadata": {
        "id": "4R1ux9eECbQU",
        "outputId": "9e78c1bc-4bc6-432d-c45e-00478e6f6906",
        "colab": {
          "base_uri": "https://localhost:8080/",
          "height": 380
        }
      },
      "execution_count": 57,
      "outputs": [
        {
          "output_type": "error",
          "ename": "KeyboardInterrupt",
          "evalue": "ignored",
          "traceback": [
            "\u001b[0;31m---------------------------------------------------------------------------\u001b[0m",
            "\u001b[0;31mKeyboardInterrupt\u001b[0m                         Traceback (most recent call last)",
            "\u001b[0;32m<ipython-input-57-ad6da3f807f9>\u001b[0m in \u001b[0;36m<module>\u001b[0;34m\u001b[0m\n\u001b[1;32m      3\u001b[0m \u001b[0mparameters\u001b[0m \u001b[0;34m=\u001b[0m \u001b[0;34m{\u001b[0m\u001b[0;34m'alpha'\u001b[0m\u001b[0;34m:\u001b[0m \u001b[0;34m[\u001b[0m\u001b[0;36m1e-15\u001b[0m\u001b[0;34m,\u001b[0m \u001b[0;36m1e-10\u001b[0m\u001b[0;34m,\u001b[0m \u001b[0;36m1e-5\u001b[0m\u001b[0;34m,\u001b[0m \u001b[0;36m1e-2\u001b[0m\u001b[0;34m,\u001b[0m \u001b[0;36m1e-1\u001b[0m\u001b[0;34m,\u001b[0m \u001b[0;36m1\u001b[0m\u001b[0;34m,\u001b[0m \u001b[0;36m5\u001b[0m\u001b[0;34m,\u001b[0m \u001b[0;36m10\u001b[0m\u001b[0;34m,\u001b[0m \u001b[0;36m15\u001b[0m\u001b[0;34m,\u001b[0m \u001b[0;36m20\u001b[0m\u001b[0;34m,\u001b[0m \u001b[0;36m25\u001b[0m\u001b[0;34m]\u001b[0m\u001b[0;34m}\u001b[0m\u001b[0;34m\u001b[0m\u001b[0;34m\u001b[0m\u001b[0m\n\u001b[1;32m      4\u001b[0m \u001b[0mlasso_grid\u001b[0m \u001b[0;34m=\u001b[0m \u001b[0mGridSearchCV\u001b[0m\u001b[0;34m(\u001b[0m\u001b[0mlasso_fit\u001b[0m \u001b[0;34m,\u001b[0m \u001b[0mparameters\u001b[0m\u001b[0;34m,\u001b[0m \u001b[0mscoring\u001b[0m\u001b[0;34m=\u001b[0m\u001b[0;34m'neg_mean_squared_error'\u001b[0m\u001b[0;34m,\u001b[0m \u001b[0mcv\u001b[0m\u001b[0;34m=\u001b[0m\u001b[0;36m5\u001b[0m\u001b[0;34m)\u001b[0m\u001b[0;34m\u001b[0m\u001b[0;34m\u001b[0m\u001b[0m\n\u001b[0;32m----> 5\u001b[0;31m \u001b[0mlasso_grid\u001b[0m \u001b[0;34m=\u001b[0m \u001b[0mlasso_grid\u001b[0m\u001b[0;34m.\u001b[0m\u001b[0mfit\u001b[0m\u001b[0;34m(\u001b[0m\u001b[0mX_train\u001b[0m\u001b[0;34m,\u001b[0m\u001b[0my_train\u001b[0m\u001b[0;34m)\u001b[0m\u001b[0;34m\u001b[0m\u001b[0;34m\u001b[0m\u001b[0m\n\u001b[0m",
            "\u001b[0;32m/usr/local/lib/python3.7/dist-packages/sklearn/model_selection/_search.py\u001b[0m in \u001b[0;36mfit\u001b[0;34m(self, X, y, groups, **fit_params)\u001b[0m\n\u001b[1;32m    889\u001b[0m                 \u001b[0;32mreturn\u001b[0m \u001b[0mresults\u001b[0m\u001b[0;34m\u001b[0m\u001b[0;34m\u001b[0m\u001b[0m\n\u001b[1;32m    890\u001b[0m \u001b[0;34m\u001b[0m\u001b[0m\n\u001b[0;32m--> 891\u001b[0;31m             \u001b[0mself\u001b[0m\u001b[0;34m.\u001b[0m\u001b[0m_run_search\u001b[0m\u001b[0;34m(\u001b[0m\u001b[0mevaluate_candidates\u001b[0m\u001b[0;34m)\u001b[0m\u001b[0;34m\u001b[0m\u001b[0;34m\u001b[0m\u001b[0m\n\u001b[0m\u001b[1;32m    892\u001b[0m \u001b[0;34m\u001b[0m\u001b[0m\n\u001b[1;32m    893\u001b[0m             \u001b[0;31m# multimetric is determined here because in the case of a callable\u001b[0m\u001b[0;34m\u001b[0m\u001b[0;34m\u001b[0m\u001b[0;34m\u001b[0m\u001b[0m\n",
            "\u001b[0;32m/usr/local/lib/python3.7/dist-packages/sklearn/model_selection/_search.py\u001b[0m in \u001b[0;36m_run_search\u001b[0;34m(self, evaluate_candidates)\u001b[0m\n\u001b[1;32m   1390\u001b[0m     \u001b[0;32mdef\u001b[0m \u001b[0m_run_search\u001b[0m\u001b[0;34m(\u001b[0m\u001b[0mself\u001b[0m\u001b[0;34m,\u001b[0m \u001b[0mevaluate_candidates\u001b[0m\u001b[0;34m)\u001b[0m\u001b[0;34m:\u001b[0m\u001b[0;34m\u001b[0m\u001b[0;34m\u001b[0m\u001b[0m\n\u001b[1;32m   1391\u001b[0m         \u001b[0;34m\"\"\"Search all candidates in param_grid\"\"\"\u001b[0m\u001b[0;34m\u001b[0m\u001b[0;34m\u001b[0m\u001b[0m\n\u001b[0;32m-> 1392\u001b[0;31m         \u001b[0mevaluate_candidates\u001b[0m\u001b[0;34m(\u001b[0m\u001b[0mParameterGrid\u001b[0m\u001b[0;34m(\u001b[0m\u001b[0mself\u001b[0m\u001b[0;34m.\u001b[0m\u001b[0mparam_grid\u001b[0m\u001b[0;34m)\u001b[0m\u001b[0;34m)\u001b[0m\u001b[0;34m\u001b[0m\u001b[0;34m\u001b[0m\u001b[0m\n\u001b[0m\u001b[1;32m   1393\u001b[0m \u001b[0;34m\u001b[0m\u001b[0m\n\u001b[1;32m   1394\u001b[0m \u001b[0;34m\u001b[0m\u001b[0m\n",
            "\u001b[0;32m/usr/local/lib/python3.7/dist-packages/sklearn/model_selection/_search.py\u001b[0m in \u001b[0;36mevaluate_candidates\u001b[0;34m(candidate_params, cv, more_results)\u001b[0m\n\u001b[1;32m    849\u001b[0m                     )\n\u001b[1;32m    850\u001b[0m                     for (cand_idx, parameters), (split_idx, (train, test)) in product(\n\u001b[0;32m--> 851\u001b[0;31m                         \u001b[0menumerate\u001b[0m\u001b[0;34m(\u001b[0m\u001b[0mcandidate_params\u001b[0m\u001b[0;34m)\u001b[0m\u001b[0;34m,\u001b[0m \u001b[0menumerate\u001b[0m\u001b[0;34m(\u001b[0m\u001b[0mcv\u001b[0m\u001b[0;34m.\u001b[0m\u001b[0msplit\u001b[0m\u001b[0;34m(\u001b[0m\u001b[0mX\u001b[0m\u001b[0;34m,\u001b[0m \u001b[0my\u001b[0m\u001b[0;34m,\u001b[0m \u001b[0mgroups\u001b[0m\u001b[0;34m)\u001b[0m\u001b[0;34m)\u001b[0m\u001b[0;34m\u001b[0m\u001b[0;34m\u001b[0m\u001b[0m\n\u001b[0m\u001b[1;32m    852\u001b[0m                     )\n\u001b[1;32m    853\u001b[0m                 )\n",
            "\u001b[0;32m/usr/local/lib/python3.7/dist-packages/joblib/parallel.py\u001b[0m in \u001b[0;36m__call__\u001b[0;34m(self, iterable)\u001b[0m\n\u001b[1;32m   1044\u001b[0m                 \u001b[0mself\u001b[0m\u001b[0;34m.\u001b[0m\u001b[0m_iterating\u001b[0m \u001b[0;34m=\u001b[0m \u001b[0mself\u001b[0m\u001b[0;34m.\u001b[0m\u001b[0m_original_iterator\u001b[0m \u001b[0;32mis\u001b[0m \u001b[0;32mnot\u001b[0m \u001b[0;32mNone\u001b[0m\u001b[0;34m\u001b[0m\u001b[0;34m\u001b[0m\u001b[0m\n\u001b[1;32m   1045\u001b[0m \u001b[0;34m\u001b[0m\u001b[0m\n\u001b[0;32m-> 1046\u001b[0;31m             \u001b[0;32mwhile\u001b[0m \u001b[0mself\u001b[0m\u001b[0;34m.\u001b[0m\u001b[0mdispatch_one_batch\u001b[0m\u001b[0;34m(\u001b[0m\u001b[0miterator\u001b[0m\u001b[0;34m)\u001b[0m\u001b[0;34m:\u001b[0m\u001b[0;34m\u001b[0m\u001b[0;34m\u001b[0m\u001b[0m\n\u001b[0m\u001b[1;32m   1047\u001b[0m                 \u001b[0;32mpass\u001b[0m\u001b[0;34m\u001b[0m\u001b[0;34m\u001b[0m\u001b[0m\n\u001b[1;32m   1048\u001b[0m \u001b[0;34m\u001b[0m\u001b[0m\n",
            "\u001b[0;32m/usr/local/lib/python3.7/dist-packages/joblib/parallel.py\u001b[0m in \u001b[0;36mdispatch_one_batch\u001b[0;34m(self, iterator)\u001b[0m\n\u001b[1;32m    859\u001b[0m                 \u001b[0;32mreturn\u001b[0m \u001b[0;32mFalse\u001b[0m\u001b[0;34m\u001b[0m\u001b[0;34m\u001b[0m\u001b[0m\n\u001b[1;32m    860\u001b[0m             \u001b[0;32melse\u001b[0m\u001b[0;34m:\u001b[0m\u001b[0;34m\u001b[0m\u001b[0;34m\u001b[0m\u001b[0m\n\u001b[0;32m--> 861\u001b[0;31m                 \u001b[0mself\u001b[0m\u001b[0;34m.\u001b[0m\u001b[0m_dispatch\u001b[0m\u001b[0;34m(\u001b[0m\u001b[0mtasks\u001b[0m\u001b[0;34m)\u001b[0m\u001b[0;34m\u001b[0m\u001b[0;34m\u001b[0m\u001b[0m\n\u001b[0m\u001b[1;32m    862\u001b[0m                 \u001b[0;32mreturn\u001b[0m \u001b[0;32mTrue\u001b[0m\u001b[0;34m\u001b[0m\u001b[0;34m\u001b[0m\u001b[0m\n\u001b[1;32m    863\u001b[0m \u001b[0;34m\u001b[0m\u001b[0m\n",
            "\u001b[0;32m/usr/local/lib/python3.7/dist-packages/joblib/parallel.py\u001b[0m in \u001b[0;36m_dispatch\u001b[0;34m(self, batch)\u001b[0m\n\u001b[1;32m    777\u001b[0m         \u001b[0;32mwith\u001b[0m \u001b[0mself\u001b[0m\u001b[0;34m.\u001b[0m\u001b[0m_lock\u001b[0m\u001b[0;34m:\u001b[0m\u001b[0;34m\u001b[0m\u001b[0;34m\u001b[0m\u001b[0m\n\u001b[1;32m    778\u001b[0m             \u001b[0mjob_idx\u001b[0m \u001b[0;34m=\u001b[0m \u001b[0mlen\u001b[0m\u001b[0;34m(\u001b[0m\u001b[0mself\u001b[0m\u001b[0;34m.\u001b[0m\u001b[0m_jobs\u001b[0m\u001b[0;34m)\u001b[0m\u001b[0;34m\u001b[0m\u001b[0;34m\u001b[0m\u001b[0m\n\u001b[0;32m--> 779\u001b[0;31m             \u001b[0mjob\u001b[0m \u001b[0;34m=\u001b[0m \u001b[0mself\u001b[0m\u001b[0;34m.\u001b[0m\u001b[0m_backend\u001b[0m\u001b[0;34m.\u001b[0m\u001b[0mapply_async\u001b[0m\u001b[0;34m(\u001b[0m\u001b[0mbatch\u001b[0m\u001b[0;34m,\u001b[0m \u001b[0mcallback\u001b[0m\u001b[0;34m=\u001b[0m\u001b[0mcb\u001b[0m\u001b[0;34m)\u001b[0m\u001b[0;34m\u001b[0m\u001b[0;34m\u001b[0m\u001b[0m\n\u001b[0m\u001b[1;32m    780\u001b[0m             \u001b[0;31m# A job can complete so quickly than its callback is\u001b[0m\u001b[0;34m\u001b[0m\u001b[0;34m\u001b[0m\u001b[0;34m\u001b[0m\u001b[0m\n\u001b[1;32m    781\u001b[0m             \u001b[0;31m# called before we get here, causing self._jobs to\u001b[0m\u001b[0;34m\u001b[0m\u001b[0;34m\u001b[0m\u001b[0;34m\u001b[0m\u001b[0m\n",
            "\u001b[0;32m/usr/local/lib/python3.7/dist-packages/joblib/_parallel_backends.py\u001b[0m in \u001b[0;36mapply_async\u001b[0;34m(self, func, callback)\u001b[0m\n\u001b[1;32m    206\u001b[0m     \u001b[0;32mdef\u001b[0m \u001b[0mapply_async\u001b[0m\u001b[0;34m(\u001b[0m\u001b[0mself\u001b[0m\u001b[0;34m,\u001b[0m \u001b[0mfunc\u001b[0m\u001b[0;34m,\u001b[0m \u001b[0mcallback\u001b[0m\u001b[0;34m=\u001b[0m\u001b[0;32mNone\u001b[0m\u001b[0;34m)\u001b[0m\u001b[0;34m:\u001b[0m\u001b[0;34m\u001b[0m\u001b[0;34m\u001b[0m\u001b[0m\n\u001b[1;32m    207\u001b[0m         \u001b[0;34m\"\"\"Schedule a func to be run\"\"\"\u001b[0m\u001b[0;34m\u001b[0m\u001b[0;34m\u001b[0m\u001b[0m\n\u001b[0;32m--> 208\u001b[0;31m         \u001b[0mresult\u001b[0m \u001b[0;34m=\u001b[0m \u001b[0mImmediateResult\u001b[0m\u001b[0;34m(\u001b[0m\u001b[0mfunc\u001b[0m\u001b[0;34m)\u001b[0m\u001b[0;34m\u001b[0m\u001b[0;34m\u001b[0m\u001b[0m\n\u001b[0m\u001b[1;32m    209\u001b[0m         \u001b[0;32mif\u001b[0m \u001b[0mcallback\u001b[0m\u001b[0;34m:\u001b[0m\u001b[0;34m\u001b[0m\u001b[0;34m\u001b[0m\u001b[0m\n\u001b[1;32m    210\u001b[0m             \u001b[0mcallback\u001b[0m\u001b[0;34m(\u001b[0m\u001b[0mresult\u001b[0m\u001b[0;34m)\u001b[0m\u001b[0;34m\u001b[0m\u001b[0;34m\u001b[0m\u001b[0m\n",
            "\u001b[0;32m/usr/local/lib/python3.7/dist-packages/joblib/_parallel_backends.py\u001b[0m in \u001b[0;36m__init__\u001b[0;34m(self, batch)\u001b[0m\n\u001b[1;32m    570\u001b[0m         \u001b[0;31m# Don't delay the application, to avoid keeping the input\u001b[0m\u001b[0;34m\u001b[0m\u001b[0;34m\u001b[0m\u001b[0;34m\u001b[0m\u001b[0m\n\u001b[1;32m    571\u001b[0m         \u001b[0;31m# arguments in memory\u001b[0m\u001b[0;34m\u001b[0m\u001b[0;34m\u001b[0m\u001b[0;34m\u001b[0m\u001b[0m\n\u001b[0;32m--> 572\u001b[0;31m         \u001b[0mself\u001b[0m\u001b[0;34m.\u001b[0m\u001b[0mresults\u001b[0m \u001b[0;34m=\u001b[0m \u001b[0mbatch\u001b[0m\u001b[0;34m(\u001b[0m\u001b[0;34m)\u001b[0m\u001b[0;34m\u001b[0m\u001b[0;34m\u001b[0m\u001b[0m\n\u001b[0m\u001b[1;32m    573\u001b[0m \u001b[0;34m\u001b[0m\u001b[0m\n\u001b[1;32m    574\u001b[0m     \u001b[0;32mdef\u001b[0m \u001b[0mget\u001b[0m\u001b[0;34m(\u001b[0m\u001b[0mself\u001b[0m\u001b[0;34m)\u001b[0m\u001b[0;34m:\u001b[0m\u001b[0;34m\u001b[0m\u001b[0;34m\u001b[0m\u001b[0m\n",
            "\u001b[0;32m/usr/local/lib/python3.7/dist-packages/joblib/parallel.py\u001b[0m in \u001b[0;36m__call__\u001b[0;34m(self)\u001b[0m\n\u001b[1;32m    261\u001b[0m         \u001b[0;32mwith\u001b[0m \u001b[0mparallel_backend\u001b[0m\u001b[0;34m(\u001b[0m\u001b[0mself\u001b[0m\u001b[0;34m.\u001b[0m\u001b[0m_backend\u001b[0m\u001b[0;34m,\u001b[0m \u001b[0mn_jobs\u001b[0m\u001b[0;34m=\u001b[0m\u001b[0mself\u001b[0m\u001b[0;34m.\u001b[0m\u001b[0m_n_jobs\u001b[0m\u001b[0;34m)\u001b[0m\u001b[0;34m:\u001b[0m\u001b[0;34m\u001b[0m\u001b[0;34m\u001b[0m\u001b[0m\n\u001b[1;32m    262\u001b[0m             return [func(*args, **kwargs)\n\u001b[0;32m--> 263\u001b[0;31m                     for func, args, kwargs in self.items]\n\u001b[0m\u001b[1;32m    264\u001b[0m \u001b[0;34m\u001b[0m\u001b[0m\n\u001b[1;32m    265\u001b[0m     \u001b[0;32mdef\u001b[0m \u001b[0m__reduce__\u001b[0m\u001b[0;34m(\u001b[0m\u001b[0mself\u001b[0m\u001b[0;34m)\u001b[0m\u001b[0;34m:\u001b[0m\u001b[0;34m\u001b[0m\u001b[0;34m\u001b[0m\u001b[0m\n",
            "\u001b[0;32m/usr/local/lib/python3.7/dist-packages/joblib/parallel.py\u001b[0m in \u001b[0;36m<listcomp>\u001b[0;34m(.0)\u001b[0m\n\u001b[1;32m    261\u001b[0m         \u001b[0;32mwith\u001b[0m \u001b[0mparallel_backend\u001b[0m\u001b[0;34m(\u001b[0m\u001b[0mself\u001b[0m\u001b[0;34m.\u001b[0m\u001b[0m_backend\u001b[0m\u001b[0;34m,\u001b[0m \u001b[0mn_jobs\u001b[0m\u001b[0;34m=\u001b[0m\u001b[0mself\u001b[0m\u001b[0;34m.\u001b[0m\u001b[0m_n_jobs\u001b[0m\u001b[0;34m)\u001b[0m\u001b[0;34m:\u001b[0m\u001b[0;34m\u001b[0m\u001b[0;34m\u001b[0m\u001b[0m\n\u001b[1;32m    262\u001b[0m             return [func(*args, **kwargs)\n\u001b[0;32m--> 263\u001b[0;31m                     for func, args, kwargs in self.items]\n\u001b[0m\u001b[1;32m    264\u001b[0m \u001b[0;34m\u001b[0m\u001b[0m\n\u001b[1;32m    265\u001b[0m     \u001b[0;32mdef\u001b[0m \u001b[0m__reduce__\u001b[0m\u001b[0;34m(\u001b[0m\u001b[0mself\u001b[0m\u001b[0;34m)\u001b[0m\u001b[0;34m:\u001b[0m\u001b[0;34m\u001b[0m\u001b[0;34m\u001b[0m\u001b[0m\n",
            "\u001b[0;32m/usr/local/lib/python3.7/dist-packages/sklearn/utils/fixes.py\u001b[0m in \u001b[0;36m__call__\u001b[0;34m(self, *args, **kwargs)\u001b[0m\n\u001b[1;32m    214\u001b[0m     \u001b[0;32mdef\u001b[0m \u001b[0m__call__\u001b[0m\u001b[0;34m(\u001b[0m\u001b[0mself\u001b[0m\u001b[0;34m,\u001b[0m \u001b[0;34m*\u001b[0m\u001b[0margs\u001b[0m\u001b[0;34m,\u001b[0m \u001b[0;34m**\u001b[0m\u001b[0mkwargs\u001b[0m\u001b[0;34m)\u001b[0m\u001b[0;34m:\u001b[0m\u001b[0;34m\u001b[0m\u001b[0;34m\u001b[0m\u001b[0m\n\u001b[1;32m    215\u001b[0m         \u001b[0;32mwith\u001b[0m \u001b[0mconfig_context\u001b[0m\u001b[0;34m(\u001b[0m\u001b[0;34m**\u001b[0m\u001b[0mself\u001b[0m\u001b[0;34m.\u001b[0m\u001b[0mconfig\u001b[0m\u001b[0;34m)\u001b[0m\u001b[0;34m:\u001b[0m\u001b[0;34m\u001b[0m\u001b[0;34m\u001b[0m\u001b[0m\n\u001b[0;32m--> 216\u001b[0;31m             \u001b[0;32mreturn\u001b[0m \u001b[0mself\u001b[0m\u001b[0;34m.\u001b[0m\u001b[0mfunction\u001b[0m\u001b[0;34m(\u001b[0m\u001b[0;34m*\u001b[0m\u001b[0margs\u001b[0m\u001b[0;34m,\u001b[0m \u001b[0;34m**\u001b[0m\u001b[0mkwargs\u001b[0m\u001b[0;34m)\u001b[0m\u001b[0;34m\u001b[0m\u001b[0;34m\u001b[0m\u001b[0m\n\u001b[0m\u001b[1;32m    217\u001b[0m \u001b[0;34m\u001b[0m\u001b[0m\n\u001b[1;32m    218\u001b[0m \u001b[0;34m\u001b[0m\u001b[0m\n",
            "\u001b[0;32m/usr/local/lib/python3.7/dist-packages/sklearn/model_selection/_validation.py\u001b[0m in \u001b[0;36m_fit_and_score\u001b[0;34m(estimator, X, y, scorer, train, test, verbose, parameters, fit_params, return_train_score, return_parameters, return_n_test_samples, return_times, return_estimator, split_progress, candidate_progress, error_score)\u001b[0m\n\u001b[1;32m    678\u001b[0m             \u001b[0mestimator\u001b[0m\u001b[0;34m.\u001b[0m\u001b[0mfit\u001b[0m\u001b[0;34m(\u001b[0m\u001b[0mX_train\u001b[0m\u001b[0;34m,\u001b[0m \u001b[0;34m**\u001b[0m\u001b[0mfit_params\u001b[0m\u001b[0;34m)\u001b[0m\u001b[0;34m\u001b[0m\u001b[0;34m\u001b[0m\u001b[0m\n\u001b[1;32m    679\u001b[0m         \u001b[0;32melse\u001b[0m\u001b[0;34m:\u001b[0m\u001b[0;34m\u001b[0m\u001b[0;34m\u001b[0m\u001b[0m\n\u001b[0;32m--> 680\u001b[0;31m             \u001b[0mestimator\u001b[0m\u001b[0;34m.\u001b[0m\u001b[0mfit\u001b[0m\u001b[0;34m(\u001b[0m\u001b[0mX_train\u001b[0m\u001b[0;34m,\u001b[0m \u001b[0my_train\u001b[0m\u001b[0;34m,\u001b[0m \u001b[0;34m**\u001b[0m\u001b[0mfit_params\u001b[0m\u001b[0;34m)\u001b[0m\u001b[0;34m\u001b[0m\u001b[0;34m\u001b[0m\u001b[0m\n\u001b[0m\u001b[1;32m    681\u001b[0m \u001b[0;34m\u001b[0m\u001b[0m\n\u001b[1;32m    682\u001b[0m     \u001b[0;32mexcept\u001b[0m \u001b[0mException\u001b[0m\u001b[0;34m:\u001b[0m\u001b[0;34m\u001b[0m\u001b[0;34m\u001b[0m\u001b[0m\n",
            "\u001b[0;32m/usr/local/lib/python3.7/dist-packages/sklearn/linear_model/_coordinate_descent.py\u001b[0m in \u001b[0;36mfit\u001b[0;34m(self, X, y, sample_weight, check_input)\u001b[0m\n\u001b[1;32m   1057\u001b[0m                 \u001b[0mrandom_state\u001b[0m\u001b[0;34m=\u001b[0m\u001b[0mself\u001b[0m\u001b[0;34m.\u001b[0m\u001b[0mrandom_state\u001b[0m\u001b[0;34m,\u001b[0m\u001b[0;34m\u001b[0m\u001b[0;34m\u001b[0m\u001b[0m\n\u001b[1;32m   1058\u001b[0m                 \u001b[0mselection\u001b[0m\u001b[0;34m=\u001b[0m\u001b[0mself\u001b[0m\u001b[0;34m.\u001b[0m\u001b[0mselection\u001b[0m\u001b[0;34m,\u001b[0m\u001b[0;34m\u001b[0m\u001b[0;34m\u001b[0m\u001b[0m\n\u001b[0;32m-> 1059\u001b[0;31m                 \u001b[0mcheck_input\u001b[0m\u001b[0;34m=\u001b[0m\u001b[0;32mFalse\u001b[0m\u001b[0;34m,\u001b[0m\u001b[0;34m\u001b[0m\u001b[0;34m\u001b[0m\u001b[0m\n\u001b[0m\u001b[1;32m   1060\u001b[0m             )\n\u001b[1;32m   1061\u001b[0m             \u001b[0mcoef_\u001b[0m\u001b[0;34m[\u001b[0m\u001b[0mk\u001b[0m\u001b[0;34m]\u001b[0m \u001b[0;34m=\u001b[0m \u001b[0mthis_coef\u001b[0m\u001b[0;34m[\u001b[0m\u001b[0;34m:\u001b[0m\u001b[0;34m,\u001b[0m \u001b[0;36m0\u001b[0m\u001b[0;34m]\u001b[0m\u001b[0;34m\u001b[0m\u001b[0;34m\u001b[0m\u001b[0m\n",
            "\u001b[0;32m/usr/local/lib/python3.7/dist-packages/sklearn/linear_model/_coordinate_descent.py\u001b[0m in \u001b[0;36menet_path\u001b[0;34m(X, y, l1_ratio, eps, n_alphas, alphas, precompute, Xy, copy_X, coef_init, verbose, return_n_iter, positive, check_input, **params)\u001b[0m\n\u001b[1;32m    646\u001b[0m         \u001b[0;32melif\u001b[0m \u001b[0mprecompute\u001b[0m \u001b[0;32mis\u001b[0m \u001b[0;32mFalse\u001b[0m\u001b[0;34m:\u001b[0m\u001b[0;34m\u001b[0m\u001b[0;34m\u001b[0m\u001b[0m\n\u001b[1;32m    647\u001b[0m             model = cd_fast.enet_coordinate_descent(\n\u001b[0;32m--> 648\u001b[0;31m                 \u001b[0mcoef_\u001b[0m\u001b[0;34m,\u001b[0m \u001b[0ml1_reg\u001b[0m\u001b[0;34m,\u001b[0m \u001b[0ml2_reg\u001b[0m\u001b[0;34m,\u001b[0m \u001b[0mX\u001b[0m\u001b[0;34m,\u001b[0m \u001b[0my\u001b[0m\u001b[0;34m,\u001b[0m \u001b[0mmax_iter\u001b[0m\u001b[0;34m,\u001b[0m \u001b[0mtol\u001b[0m\u001b[0;34m,\u001b[0m \u001b[0mrng\u001b[0m\u001b[0;34m,\u001b[0m \u001b[0mrandom\u001b[0m\u001b[0;34m,\u001b[0m \u001b[0mpositive\u001b[0m\u001b[0;34m\u001b[0m\u001b[0;34m\u001b[0m\u001b[0m\n\u001b[0m\u001b[1;32m    649\u001b[0m             )\n\u001b[1;32m    650\u001b[0m         \u001b[0;32melse\u001b[0m\u001b[0;34m:\u001b[0m\u001b[0;34m\u001b[0m\u001b[0;34m\u001b[0m\u001b[0m\n",
            "\u001b[0;32msklearn/linear_model/_cd_fast.pyx\u001b[0m in \u001b[0;36msklearn.linear_model._cd_fast.enet_coordinate_descent\u001b[0;34m()\u001b[0m\n",
            "\u001b[0;32m/usr/local/lib/python3.7/dist-packages/numpy/core/getlimits.py\u001b[0m in \u001b[0;36m__new__\u001b[0;34m(cls, dtype)\u001b[0m\n\u001b[1;32m    380\u001b[0m     \u001b[0m_finfo_cache\u001b[0m \u001b[0;34m=\u001b[0m \u001b[0;34m{\u001b[0m\u001b[0;34m}\u001b[0m\u001b[0;34m\u001b[0m\u001b[0;34m\u001b[0m\u001b[0m\n\u001b[1;32m    381\u001b[0m \u001b[0;34m\u001b[0m\u001b[0m\n\u001b[0;32m--> 382\u001b[0;31m     \u001b[0;32mdef\u001b[0m \u001b[0m__new__\u001b[0m\u001b[0;34m(\u001b[0m\u001b[0mcls\u001b[0m\u001b[0;34m,\u001b[0m \u001b[0mdtype\u001b[0m\u001b[0;34m)\u001b[0m\u001b[0;34m:\u001b[0m\u001b[0;34m\u001b[0m\u001b[0;34m\u001b[0m\u001b[0m\n\u001b[0m\u001b[1;32m    383\u001b[0m         \u001b[0;32mtry\u001b[0m\u001b[0;34m:\u001b[0m\u001b[0;34m\u001b[0m\u001b[0;34m\u001b[0m\u001b[0m\n\u001b[1;32m    384\u001b[0m             \u001b[0mdtype\u001b[0m \u001b[0;34m=\u001b[0m \u001b[0mnumeric\u001b[0m\u001b[0;34m.\u001b[0m\u001b[0mdtype\u001b[0m\u001b[0;34m(\u001b[0m\u001b[0mdtype\u001b[0m\u001b[0;34m)\u001b[0m\u001b[0;34m\u001b[0m\u001b[0;34m\u001b[0m\u001b[0m\n",
            "\u001b[0;31mKeyboardInterrupt\u001b[0m: "
          ]
        }
      ]
    },
    {
      "cell_type": "code",
      "source": [
        "lasso_grid.best_params_"
      ],
      "metadata": {
        "id": "9dFEY1QaIpHD"
      },
      "execution_count": null,
      "outputs": []
    },
    {
      "cell_type": "code",
      "source": [
        "y_pred_lasso = lasso_grid.predict(X_test)\n",
        "y_pred_lasso"
      ],
      "metadata": {
        "id": "h00bQHM_Iur2"
      },
      "execution_count": null,
      "outputs": []
    },
    {
      "cell_type": "code",
      "source": [
        "MSE  = mean_squared_error(y_test,y_pred_lasso)\n",
        "print(\"MSE :\" , MSE)\n",
        "    \n",
        "RMSE = np.sqrt(MSE)\n",
        "print(\"RMSE :\" ,RMSE)\n",
        "\n",
        "r2 = r2_score(y_test,y_pred_lasso)\n",
        "print(\"R2 :\" ,r2)\n",
        "\n",
        "adj_r2=1-(1-r2_score(y_test,y_pred_lasso))*((X_test.shape[0]-1)/(X_test.shape[0]-X_test.shape[1]-1))\n",
        "print(\"Adjusted R2 : \",adj_r2)"
      ],
      "metadata": {
        "id": "KkG93o99Zv-U"
      },
      "execution_count": null,
      "outputs": []
    },
    {
      "cell_type": "code",
      "source": [
        "rcParams['figure.figsize'] = 15,8\n",
        "plt.subplot(1,1,1)\n",
        "sns.distplot(y_test,kde = False, label= 'Test')\n",
        "\n",
        "plt.subplot(1,1,1)\n",
        "sns.distplot(y_pred_lasso, kde = False, label= 'Pred,iction')\n",
        "plt.legend()\n",
        "plt.title('Test VS Prediction')\n",
        "plt.show();"
      ],
      "metadata": {
        "id": "Ew_aYgeKZzhU"
      },
      "execution_count": null,
      "outputs": []
    },
    {
      "cell_type": "markdown",
      "source": [
        "##**Ridge Regression**"
      ],
      "metadata": {
        "id": "83RAqFv7dnwt"
      }
    },
    {
      "cell_type": "code",
      "source": [
        "from sklearn.linear_model import Ridge\n",
        "\n",
        "Ridge= Ridge()\n",
        "ridge_fit =Ridge.fit(X_train , y_train)"
      ],
      "metadata": {
        "id": "WsQ9cRYPcXJ8"
      },
      "execution_count": null,
      "outputs": []
    },
    {
      "cell_type": "code",
      "source": [
        "parameters = {'alpha': [1e-15, 1e-10, 1e-5, 1e-2, 1e-1, 1, 5, 10, 15, 20, 25]}\n",
        "ridge_grid = GridSearchCV(ridge_fit , parameters, scoring='neg_mean_squared_error', cv=5)\n",
        "ridge_grid = lasso_grid.fit(X_train,y_train)"
      ],
      "metadata": {
        "id": "jAEusz3SeDqA"
      },
      "execution_count": null,
      "outputs": []
    },
    {
      "cell_type": "code",
      "source": [
        "ridge_grid.best_params_"
      ],
      "metadata": {
        "id": "i68LtQ7GeQSz"
      },
      "execution_count": null,
      "outputs": []
    },
    {
      "cell_type": "code",
      "source": [
        "y_pred_ridge = ridge_grid.predict(X_test)\n",
        "y_pred_ridge"
      ],
      "metadata": {
        "id": "BlytYHHOeStG"
      },
      "execution_count": null,
      "outputs": []
    },
    {
      "cell_type": "code",
      "source": [
        "MSE  = mean_squared_error(y_test,y_pred_ridge)\n",
        "print(\"MSE :\" , MSE)\n",
        "    \n",
        "RMSE = np.sqrt(MSE)\n",
        "print(\"RMSE :\" ,RMSE)\n",
        "\n",
        "r2 = r2_score(y_test,y_pred_ridge)\n",
        "print(\"R2 :\" ,r2)\n",
        "\n",
        "adj_r2=1-(1-r2_score(y_test,y_pred_ridge))*((X_test.shape[0]-1)/(X_test.shape[0]-X_test.shape[1]-1))\n",
        "print(\"Adjusted R2 : \",adj_r2)"
      ],
      "metadata": {
        "id": "hlLngCn1ejjj"
      },
      "execution_count": null,
      "outputs": []
    },
    {
      "cell_type": "code",
      "source": [
        "rcParams['figure.figsize'] = 15,8\n",
        "plt.subplot(1,1,1)\n",
        "sns.distplot(y_test,kde = False, label= 'Test')\n",
        "\n",
        "plt.subplot(1,1,1)\n",
        "sns.distplot(y_pred_ridge, kde = False, label= 'Pred,iction')\n",
        "plt.legend()\n",
        "plt.title('Test VS Prediction')\n",
        "plt.show();"
      ],
      "metadata": {
        "id": "fNbhEZE5emZK"
      },
      "execution_count": null,
      "outputs": []
    },
    {
      "cell_type": "markdown",
      "source": [
        "##**Decision Tree**"
      ],
      "metadata": {
        "id": "Hv8PQXkwe81k"
      }
    },
    {
      "cell_type": "code",
      "source": [
        "from sklearn.tree import DecisionTreeRegressor\n",
        "\n",
        "dt_regressor = DecisionTreeRegressor()\n",
        "dt_fit = dt_regressor.fit(X_train, y_train)"
      ],
      "metadata": {
        "id": "b8BirbRjuC7N"
      },
      "execution_count": null,
      "outputs": []
    },
    {
      "cell_type": "code",
      "source": [
        "y_pred_dt = dt_fit.predict(X_test)\n",
        "y_pred_dt"
      ],
      "metadata": {
        "id": "M7CMHHuhu9-f"
      },
      "execution_count": null,
      "outputs": []
    },
    {
      "cell_type": "code",
      "source": [
        "params = {'max_depth': [20,30,50,100], 'min_samples_split':[5,10,15,20]}\n",
        "dt_grid = GridSearchCV(dt_fit, param_grid= params, scoring='neg_mean_squared_error', cv=5)\n",
        "dt_grid = dt_grid.fit(X_train, y_train)"
      ],
      "metadata": {
        "id": "kHgT4Eu_vUP6"
      },
      "execution_count": null,
      "outputs": []
    },
    {
      "cell_type": "code",
      "source": [
        "dt_grid.best_estimator_"
      ],
      "metadata": {
        "id": "38hU0CAt2Qgd"
      },
      "execution_count": null,
      "outputs": []
    },
    {
      "cell_type": "code",
      "source": [
        "y_pred_dt = dt_grid.predict(X_test)\n",
        "y_pred_dt"
      ],
      "metadata": {
        "id": "OlHUz3an2W-F"
      },
      "execution_count": null,
      "outputs": []
    },
    {
      "cell_type": "code",
      "source": [
        "MSE  = mean_squared_error(y_test,y_pred_dt)\n",
        "print(\"MSE :\" , MSE)\n",
        "    \n",
        "RMSE = np.sqrt(MSE)\n",
        "print(\"RMSE :\" ,RMSE)\n",
        "\n",
        "r2 = r2_score(y_test,y_pred_dt)\n",
        "print(\"R2 :\" ,r2)\n",
        "\n",
        "adj_r2=1-(1-r2_score(y_test,y_pred_dt))*((X_test.shape[0]-1)/(X_test.shape[0]-X_test.shape[1]-1))\n",
        "print(\"Adjusted R2 : \",adj_r2)"
      ],
      "metadata": {
        "id": "Lhb0ZCiP2cY9"
      },
      "execution_count": null,
      "outputs": []
    },
    {
      "cell_type": "code",
      "source": [
        "plt.figure(figsize=(10,8))\n",
        "plt.subplot(1,1,1)\n",
        "sns.distplot(y_test, kde=False, label='Test')\n",
        "\n",
        "plt.subplot(1,1,1)\n",
        "sns.distplot(y_pred_dt, kde=False, label='Prediction')\n",
        "plt.legend()\n",
        "plt.title('Test VS Prediction')\n",
        "plt.show();"
      ],
      "metadata": {
        "id": "ZXFZOkCC2fxd"
      },
      "execution_count": null,
      "outputs": []
    }
  ]
}