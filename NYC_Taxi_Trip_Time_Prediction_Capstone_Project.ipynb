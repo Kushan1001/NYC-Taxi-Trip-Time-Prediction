{
  "nbformat": 4,
  "nbformat_minor": 0,
  "metadata": {
    "kernelspec": {
      "display_name": "Python 3",
      "language": "python",
      "name": "python3"
    },
    "language_info": {
      "codemirror_mode": {
        "name": "ipython",
        "version": 3
      },
      "file_extension": ".py",
      "mimetype": "text/x-python",
      "name": "python",
      "nbconvert_exporter": "python",
      "pygments_lexer": "ipython3",
      "version": "3.6.6"
    },
    "colab": {
      "name": " NYC Taxi Trip Time Prediction - Capstone Project.ipynb",
      "provenance": [],
      "collapsed_sections": [],
      "include_colab_link": true
    }
  },
  "cells": [
    {
      "cell_type": "markdown",
      "metadata": {
        "id": "view-in-github",
        "colab_type": "text"
      },
      "source": [
        "<a href=\"https://colab.research.google.com/github/Kushan1001/NYC-Taxi-Trip-Time-Prediction/blob/main/NYC_Taxi_Trip_Time_Prediction_Capstone_Project.ipynb\" target=\"_parent\"><img src=\"https://colab.research.google.com/assets/colab-badge.svg\" alt=\"Open In Colab\"/></a>"
      ]
    },
    {
      "cell_type": "markdown",
      "metadata": {
        "id": "tOGC-qoyhJeX"
      },
      "source": [
        "# <b><u> Project Title : Taxi trip time Prediction : Predicting total ride duration of taxi trips in New York City</u></b>"
      ]
    },
    {
      "cell_type": "markdown",
      "metadata": {
        "id": "Y06xIdG26kRF"
      },
      "source": [
        "## <b> Problem Description </b>\n",
        "\n",
        "### Your task is to build a model that predicts the total ride duration of taxi trips in New York City. Your primary dataset is one released by the NYC Taxi and Limousine Commission, which includes pickup time, geo-coordinates, number of passengers, and several other variables."
      ]
    },
    {
      "cell_type": "markdown",
      "metadata": {
        "id": "WWeU1f9bwqQq"
      },
      "source": [
        "## <b> Data Description </b>\n",
        "\n",
        "### The dataset is based on the 2016 NYC Yellow Cab trip record data made available in Big Query on Google Cloud Platform. The data was originally published by the NYC Taxi and Limousine Commission (TLC). The data was sampled and cleaned for the purposes of this project. Based on individual trip attributes, you should predict the duration of each trip in the test set.\n",
        "\n",
        "### <b>NYC Taxi Data.csv</b> - the training set (contains 1458644 trip records)\n",
        "\n",
        "\n",
        "### Data fields\n",
        "* #### id - a unique identifier for each trip\n",
        "* #### vendor_id - a code indicating the provider associated with the trip record\n",
        "* #### pickup_datetime - date and time when the meter was engaged\n",
        "* #### dropoff_datetime - date and time when the meter was disengaged\n",
        "* #### passenger_count - the number of passengers in the vehicle (driver entered value)\n",
        "* #### pickup_longitude - the longitude where the meter was engaged\n",
        "* #### pickup_latitude - the latitude where the meter was engaged\n",
        "* #### dropoff_longitude - the longitude where the meter was disengaged\n",
        "* #### dropoff_latitude - the latitude where the meter was disengaged\n",
        "* #### store_and_fwd_flag - This flag indicates whether the trip record was held in vehicle memory before sending to the vendor because the vehicle did not have a connection to the server - Y=store and forward; N=not a store and forward trip\n",
        "* #### trip_duration - duration of the trip in seconds"
      ]
    },
    {
      "cell_type": "markdown",
      "source": [
        "##**Set Up**"
      ],
      "metadata": {
        "id": "7EXACgraOOW6"
      }
    },
    {
      "cell_type": "code",
      "metadata": {
        "id": "dByMsuzT8Tnw"
      },
      "source": [
        "# Importing the required libraries\n",
        "\n",
        "import pandas as pd\n",
        "import numpy as np\n",
        "import matplotlib.pyplot as plt\n",
        "from matplotlib import rcParams\n",
        "import seaborn as sns\n",
        "\n",
        "import datetime as dt\n",
        "\n",
        "import warnings; warnings.filterwarnings('ignore')\n",
        "\n",
        "\n",
        "\n",
        "# setting some display options\n",
        "\n",
        "plt.rcParams[\"font.weight\"] = \"bold\"\n",
        "plt.rcParams[\"axes.labelweight\"] = \"bold\"\n",
        "plt.rcParams[\"axes.titlesize\"] = 16\n",
        "plt.rcParams[\"axes.titleweight\"] = 'bold'\n",
        "plt.rcParams['xtick.labelsize']=15\n",
        "plt.rcParams['ytick.labelsize']=15\n",
        "plt.rcParams[\"axes.labelsize\"] = 16\n",
        "plt.rcParams[\"legend.fontsize\"] = 15\n",
        "plt.rcParams[\"legend.title_fontsize\"] = 15\n"
      ],
      "execution_count": 91,
      "outputs": []
    },
    {
      "cell_type": "markdown",
      "source": [
        "##**Loading the dataset**"
      ],
      "metadata": {
        "id": "yVqCjUc8PKa-"
      }
    },
    {
      "cell_type": "code",
      "source": [
        "from google.colab import drive\n",
        "drive.mount('/content/drive')"
      ],
      "metadata": {
        "colab": {
          "base_uri": "https://localhost:8080/"
        },
        "id": "Nb83nHi5PRvY",
        "outputId": "0d043190-7c51-42d9-f631-e1acad87a6e8"
      },
      "execution_count": 3,
      "outputs": [
        {
          "output_type": "stream",
          "name": "stdout",
          "text": [
            "Drive already mounted at /content/drive; to attempt to forcibly remount, call drive.mount(\"/content/drive\", force_remount=True).\n"
          ]
        }
      ]
    },
    {
      "cell_type": "code",
      "source": [
        "# creating a pandas data-frame (taxi_df) for the dataset\n",
        "\n",
        "taxi_df = pd.read_csv('/content/drive/MyDrive/Capstone project -2/NYC Taxi Data.csv', index_col ='id' )"
      ],
      "metadata": {
        "id": "T7OtyapNPYs-"
      },
      "execution_count": 4,
      "outputs": []
    },
    {
      "cell_type": "markdown",
      "source": [
        "##**Exploring the dataset**"
      ],
      "metadata": {
        "id": "FlQONCIBQLVc"
      }
    },
    {
      "cell_type": "code",
      "source": [
        "# checking the first five columns of the dataset\n",
        "\n",
        "taxi_df.head()"
      ],
      "metadata": {
        "colab": {
          "base_uri": "https://localhost:8080/",
          "height": 281
        },
        "id": "PXlwYHeJQQed",
        "outputId": "6db69218-cf98-4ce3-96ac-131aaa38853d"
      },
      "execution_count": 5,
      "outputs": [
        {
          "output_type": "execute_result",
          "data": {
            "text/plain": [
              "           vendor_id      pickup_datetime     dropoff_datetime  \\\n",
              "id                                                               \n",
              "id2875421          2  2016-03-14 17:24:55  2016-03-14 17:32:30   \n",
              "id2377394          1  2016-06-12 00:43:35  2016-06-12 00:54:38   \n",
              "id3858529          2  2016-01-19 11:35:24  2016-01-19 12:10:48   \n",
              "id3504673          2  2016-04-06 19:32:31  2016-04-06 19:39:40   \n",
              "id2181028          2  2016-03-26 13:30:55  2016-03-26 13:38:10   \n",
              "\n",
              "           passenger_count  pickup_longitude  pickup_latitude  \\\n",
              "id                                                              \n",
              "id2875421                1        -73.982155        40.767937   \n",
              "id2377394                1        -73.980415        40.738564   \n",
              "id3858529                1        -73.979027        40.763939   \n",
              "id3504673                1        -74.010040        40.719971   \n",
              "id2181028                1        -73.973053        40.793209   \n",
              "\n",
              "           dropoff_longitude  dropoff_latitude store_and_fwd_flag  \\\n",
              "id                                                                  \n",
              "id2875421         -73.964630         40.765602                  N   \n",
              "id2377394         -73.999481         40.731152                  N   \n",
              "id3858529         -74.005333         40.710087                  N   \n",
              "id3504673         -74.012268         40.706718                  N   \n",
              "id2181028         -73.972923         40.782520                  N   \n",
              "\n",
              "           trip_duration  \n",
              "id                        \n",
              "id2875421            455  \n",
              "id2377394            663  \n",
              "id3858529           2124  \n",
              "id3504673            429  \n",
              "id2181028            435  "
            ],
            "text/html": [
              "\n",
              "  <div id=\"df-e0e8c870-7d12-4865-a631-d5aeeb00bbd9\">\n",
              "    <div class=\"colab-df-container\">\n",
              "      <div>\n",
              "<style scoped>\n",
              "    .dataframe tbody tr th:only-of-type {\n",
              "        vertical-align: middle;\n",
              "    }\n",
              "\n",
              "    .dataframe tbody tr th {\n",
              "        vertical-align: top;\n",
              "    }\n",
              "\n",
              "    .dataframe thead th {\n",
              "        text-align: right;\n",
              "    }\n",
              "</style>\n",
              "<table border=\"1\" class=\"dataframe\">\n",
              "  <thead>\n",
              "    <tr style=\"text-align: right;\">\n",
              "      <th></th>\n",
              "      <th>vendor_id</th>\n",
              "      <th>pickup_datetime</th>\n",
              "      <th>dropoff_datetime</th>\n",
              "      <th>passenger_count</th>\n",
              "      <th>pickup_longitude</th>\n",
              "      <th>pickup_latitude</th>\n",
              "      <th>dropoff_longitude</th>\n",
              "      <th>dropoff_latitude</th>\n",
              "      <th>store_and_fwd_flag</th>\n",
              "      <th>trip_duration</th>\n",
              "    </tr>\n",
              "    <tr>\n",
              "      <th>id</th>\n",
              "      <th></th>\n",
              "      <th></th>\n",
              "      <th></th>\n",
              "      <th></th>\n",
              "      <th></th>\n",
              "      <th></th>\n",
              "      <th></th>\n",
              "      <th></th>\n",
              "      <th></th>\n",
              "      <th></th>\n",
              "    </tr>\n",
              "  </thead>\n",
              "  <tbody>\n",
              "    <tr>\n",
              "      <th>id2875421</th>\n",
              "      <td>2</td>\n",
              "      <td>2016-03-14 17:24:55</td>\n",
              "      <td>2016-03-14 17:32:30</td>\n",
              "      <td>1</td>\n",
              "      <td>-73.982155</td>\n",
              "      <td>40.767937</td>\n",
              "      <td>-73.964630</td>\n",
              "      <td>40.765602</td>\n",
              "      <td>N</td>\n",
              "      <td>455</td>\n",
              "    </tr>\n",
              "    <tr>\n",
              "      <th>id2377394</th>\n",
              "      <td>1</td>\n",
              "      <td>2016-06-12 00:43:35</td>\n",
              "      <td>2016-06-12 00:54:38</td>\n",
              "      <td>1</td>\n",
              "      <td>-73.980415</td>\n",
              "      <td>40.738564</td>\n",
              "      <td>-73.999481</td>\n",
              "      <td>40.731152</td>\n",
              "      <td>N</td>\n",
              "      <td>663</td>\n",
              "    </tr>\n",
              "    <tr>\n",
              "      <th>id3858529</th>\n",
              "      <td>2</td>\n",
              "      <td>2016-01-19 11:35:24</td>\n",
              "      <td>2016-01-19 12:10:48</td>\n",
              "      <td>1</td>\n",
              "      <td>-73.979027</td>\n",
              "      <td>40.763939</td>\n",
              "      <td>-74.005333</td>\n",
              "      <td>40.710087</td>\n",
              "      <td>N</td>\n",
              "      <td>2124</td>\n",
              "    </tr>\n",
              "    <tr>\n",
              "      <th>id3504673</th>\n",
              "      <td>2</td>\n",
              "      <td>2016-04-06 19:32:31</td>\n",
              "      <td>2016-04-06 19:39:40</td>\n",
              "      <td>1</td>\n",
              "      <td>-74.010040</td>\n",
              "      <td>40.719971</td>\n",
              "      <td>-74.012268</td>\n",
              "      <td>40.706718</td>\n",
              "      <td>N</td>\n",
              "      <td>429</td>\n",
              "    </tr>\n",
              "    <tr>\n",
              "      <th>id2181028</th>\n",
              "      <td>2</td>\n",
              "      <td>2016-03-26 13:30:55</td>\n",
              "      <td>2016-03-26 13:38:10</td>\n",
              "      <td>1</td>\n",
              "      <td>-73.973053</td>\n",
              "      <td>40.793209</td>\n",
              "      <td>-73.972923</td>\n",
              "      <td>40.782520</td>\n",
              "      <td>N</td>\n",
              "      <td>435</td>\n",
              "    </tr>\n",
              "  </tbody>\n",
              "</table>\n",
              "</div>\n",
              "      <button class=\"colab-df-convert\" onclick=\"convertToInteractive('df-e0e8c870-7d12-4865-a631-d5aeeb00bbd9')\"\n",
              "              title=\"Convert this dataframe to an interactive table.\"\n",
              "              style=\"display:none;\">\n",
              "        \n",
              "  <svg xmlns=\"http://www.w3.org/2000/svg\" height=\"24px\"viewBox=\"0 0 24 24\"\n",
              "       width=\"24px\">\n",
              "    <path d=\"M0 0h24v24H0V0z\" fill=\"none\"/>\n",
              "    <path d=\"M18.56 5.44l.94 2.06.94-2.06 2.06-.94-2.06-.94-.94-2.06-.94 2.06-2.06.94zm-11 1L8.5 8.5l.94-2.06 2.06-.94-2.06-.94L8.5 2.5l-.94 2.06-2.06.94zm10 10l.94 2.06.94-2.06 2.06-.94-2.06-.94-.94-2.06-.94 2.06-2.06.94z\"/><path d=\"M17.41 7.96l-1.37-1.37c-.4-.4-.92-.59-1.43-.59-.52 0-1.04.2-1.43.59L10.3 9.45l-7.72 7.72c-.78.78-.78 2.05 0 2.83L4 21.41c.39.39.9.59 1.41.59.51 0 1.02-.2 1.41-.59l7.78-7.78 2.81-2.81c.8-.78.8-2.07 0-2.86zM5.41 20L4 18.59l7.72-7.72 1.47 1.35L5.41 20z\"/>\n",
              "  </svg>\n",
              "      </button>\n",
              "      \n",
              "  <style>\n",
              "    .colab-df-container {\n",
              "      display:flex;\n",
              "      flex-wrap:wrap;\n",
              "      gap: 12px;\n",
              "    }\n",
              "\n",
              "    .colab-df-convert {\n",
              "      background-color: #E8F0FE;\n",
              "      border: none;\n",
              "      border-radius: 50%;\n",
              "      cursor: pointer;\n",
              "      display: none;\n",
              "      fill: #1967D2;\n",
              "      height: 32px;\n",
              "      padding: 0 0 0 0;\n",
              "      width: 32px;\n",
              "    }\n",
              "\n",
              "    .colab-df-convert:hover {\n",
              "      background-color: #E2EBFA;\n",
              "      box-shadow: 0px 1px 2px rgba(60, 64, 67, 0.3), 0px 1px 3px 1px rgba(60, 64, 67, 0.15);\n",
              "      fill: #174EA6;\n",
              "    }\n",
              "\n",
              "    [theme=dark] .colab-df-convert {\n",
              "      background-color: #3B4455;\n",
              "      fill: #D2E3FC;\n",
              "    }\n",
              "\n",
              "    [theme=dark] .colab-df-convert:hover {\n",
              "      background-color: #434B5C;\n",
              "      box-shadow: 0px 1px 3px 1px rgba(0, 0, 0, 0.15);\n",
              "      filter: drop-shadow(0px 1px 2px rgba(0, 0, 0, 0.3));\n",
              "      fill: #FFFFFF;\n",
              "    }\n",
              "  </style>\n",
              "\n",
              "      <script>\n",
              "        const buttonEl =\n",
              "          document.querySelector('#df-e0e8c870-7d12-4865-a631-d5aeeb00bbd9 button.colab-df-convert');\n",
              "        buttonEl.style.display =\n",
              "          google.colab.kernel.accessAllowed ? 'block' : 'none';\n",
              "\n",
              "        async function convertToInteractive(key) {\n",
              "          const element = document.querySelector('#df-e0e8c870-7d12-4865-a631-d5aeeb00bbd9');\n",
              "          const dataTable =\n",
              "            await google.colab.kernel.invokeFunction('convertToInteractive',\n",
              "                                                     [key], {});\n",
              "          if (!dataTable) return;\n",
              "\n",
              "          const docLinkHtml = 'Like what you see? Visit the ' +\n",
              "            '<a target=\"_blank\" href=https://colab.research.google.com/notebooks/data_table.ipynb>data table notebook</a>'\n",
              "            + ' to learn more about interactive tables.';\n",
              "          element.innerHTML = '';\n",
              "          dataTable['output_type'] = 'display_data';\n",
              "          await google.colab.output.renderOutput(dataTable, element);\n",
              "          const docLink = document.createElement('div');\n",
              "          docLink.innerHTML = docLinkHtml;\n",
              "          element.appendChild(docLink);\n",
              "        }\n",
              "      </script>\n",
              "    </div>\n",
              "  </div>\n",
              "  "
            ]
          },
          "metadata": {},
          "execution_count": 5
        }
      ]
    },
    {
      "cell_type": "code",
      "source": [
        "# a glance of the whole dataset\n",
        "\n",
        "taxi_df.info()"
      ],
      "metadata": {
        "colab": {
          "base_uri": "https://localhost:8080/"
        },
        "id": "Yr0PJpmuQpD1",
        "outputId": "93b25b8a-7b42-4219-9197-3d707a25f544"
      },
      "execution_count": 6,
      "outputs": [
        {
          "output_type": "stream",
          "name": "stdout",
          "text": [
            "<class 'pandas.core.frame.DataFrame'>\n",
            "Index: 1458644 entries, id2875421 to id1209952\n",
            "Data columns (total 10 columns):\n",
            " #   Column              Non-Null Count    Dtype  \n",
            "---  ------              --------------    -----  \n",
            " 0   vendor_id           1458644 non-null  int64  \n",
            " 1   pickup_datetime     1458644 non-null  object \n",
            " 2   dropoff_datetime    1458644 non-null  object \n",
            " 3   passenger_count     1458644 non-null  int64  \n",
            " 4   pickup_longitude    1458644 non-null  float64\n",
            " 5   pickup_latitude     1458644 non-null  float64\n",
            " 6   dropoff_longitude   1458644 non-null  float64\n",
            " 7   dropoff_latitude    1458644 non-null  float64\n",
            " 8   store_and_fwd_flag  1458644 non-null  object \n",
            " 9   trip_duration       1458644 non-null  int64  \n",
            "dtypes: float64(4), int64(3), object(3)\n",
            "memory usage: 122.4+ MB\n"
          ]
        }
      ]
    },
    {
      "cell_type": "code",
      "source": [
        "# checking the number of observations and features\n",
        "\n",
        "print(taxi_df.shape)\n",
        "print('Number of observations :', taxi_df.shape[0])\n",
        "print('Number of features :', taxi_df.shape[1])"
      ],
      "metadata": {
        "colab": {
          "base_uri": "https://localhost:8080/"
        },
        "id": "9dUqR7DxRA5Y",
        "outputId": "f284ca30-3bb0-4b29-b314-96e0c84b80d3"
      },
      "execution_count": 7,
      "outputs": [
        {
          "output_type": "stream",
          "name": "stdout",
          "text": [
            "(1458644, 10)\n",
            "Number of observations : 1458644\n",
            "Number of features : 10\n"
          ]
        }
      ]
    },
    {
      "cell_type": "code",
      "source": [
        "# features in the dataset\n",
        "\n",
        "taxi_df.columns"
      ],
      "metadata": {
        "colab": {
          "base_uri": "https://localhost:8080/"
        },
        "id": "vstbe9dvRW_I",
        "outputId": "8b44c013-3bb2-4531-f533-0cb73095131a"
      },
      "execution_count": 8,
      "outputs": [
        {
          "output_type": "execute_result",
          "data": {
            "text/plain": [
              "Index(['vendor_id', 'pickup_datetime', 'dropoff_datetime', 'passenger_count',\n",
              "       'pickup_longitude', 'pickup_latitude', 'dropoff_longitude',\n",
              "       'dropoff_latitude', 'store_and_fwd_flag', 'trip_duration'],\n",
              "      dtype='object')"
            ]
          },
          "metadata": {},
          "execution_count": 8
        }
      ]
    },
    {
      "cell_type": "code",
      "source": [
        "# checking the null values\n",
        "\n",
        "taxi_df.isnull().sum()"
      ],
      "metadata": {
        "colab": {
          "base_uri": "https://localhost:8080/"
        },
        "id": "hklWDfAPSt7g",
        "outputId": "9121a443-ea27-48ff-8a9a-c1aeabef5f3a"
      },
      "execution_count": 9,
      "outputs": [
        {
          "output_type": "execute_result",
          "data": {
            "text/plain": [
              "vendor_id             0\n",
              "pickup_datetime       0\n",
              "dropoff_datetime      0\n",
              "passenger_count       0\n",
              "pickup_longitude      0\n",
              "pickup_latitude       0\n",
              "dropoff_longitude     0\n",
              "dropoff_latitude      0\n",
              "store_and_fwd_flag    0\n",
              "trip_duration         0\n",
              "dtype: int64"
            ]
          },
          "metadata": {},
          "execution_count": 9
        }
      ]
    },
    {
      "cell_type": "markdown",
      "source": [
        "We have zero null values in the dataset"
      ],
      "metadata": {
        "id": "7Fe4v6poUhXg"
      }
    },
    {
      "cell_type": "code",
      "source": [
        "taxi_df.nunique().sort_values()"
      ],
      "metadata": {
        "colab": {
          "base_uri": "https://localhost:8080/"
        },
        "id": "ldIhvOObWt3D",
        "outputId": "2175d129-9aa9-4fe3-ce16-3e4d2ad52a19"
      },
      "execution_count": 10,
      "outputs": [
        {
          "output_type": "execute_result",
          "data": {
            "text/plain": [
              "vendor_id                   2\n",
              "store_and_fwd_flag          2\n",
              "passenger_count            10\n",
              "trip_duration            7417\n",
              "pickup_longitude        23047\n",
              "dropoff_longitude       33821\n",
              "pickup_latitude         45245\n",
              "dropoff_latitude        62519\n",
              "pickup_datetime       1380222\n",
              "dropoff_datetime      1380377\n",
              "dtype: int64"
            ]
          },
          "metadata": {},
          "execution_count": 10
        }
      ]
    },
    {
      "cell_type": "markdown",
      "source": [
        "\n",
        "\n",
        "*   There are two types of vendores:- 1 and 2\n",
        "*   Store and fwd flag takes two types of values:- Y and N\n",
        "*   Passenger count takes 10 different values\n",
        "\n",
        "\n",
        "\n",
        "\n"
      ],
      "metadata": {
        "id": "Ge3bR_MuXRt5"
      }
    },
    {
      "cell_type": "code",
      "source": [
        "# getting a descriptive summary of our dataset\n",
        "\n",
        "taxi_df.describe().applymap('{:,.5f}'.format)"
      ],
      "metadata": {
        "colab": {
          "base_uri": "https://localhost:8080/",
          "height": 300
        },
        "id": "Pel9HcXvYRs1",
        "outputId": "84b1134c-6614-41e5-8f4b-b4a140c2d009"
      },
      "execution_count": 11,
      "outputs": [
        {
          "output_type": "execute_result",
          "data": {
            "text/plain": [
              "             vendor_id  passenger_count pickup_longitude  pickup_latitude  \\\n",
              "count  1,458,644.00000  1,458,644.00000  1,458,644.00000  1,458,644.00000   \n",
              "mean           1.53495          1.66453        -73.97349         40.75092   \n",
              "std            0.49878          1.31424          0.07090          0.03288   \n",
              "min            1.00000          0.00000       -121.93334         34.35970   \n",
              "25%            1.00000          1.00000        -73.99187         40.73735   \n",
              "50%            2.00000          1.00000        -73.98174         40.75410   \n",
              "75%            2.00000          2.00000        -73.96733         40.76836   \n",
              "max            2.00000          9.00000        -61.33553         51.88108   \n",
              "\n",
              "      dropoff_longitude dropoff_latitude    trip_duration  \n",
              "count   1,458,644.00000  1,458,644.00000  1,458,644.00000  \n",
              "mean          -73.97342         40.75180        959.49227  \n",
              "std             0.07064          0.03589      5,237.43172  \n",
              "min          -121.93330         32.18114          1.00000  \n",
              "25%           -73.99133         40.73588        397.00000  \n",
              "50%           -73.97975         40.75452        662.00000  \n",
              "75%           -73.96301         40.76981      1,075.00000  \n",
              "max           -61.33553         43.92103  3,526,282.00000  "
            ],
            "text/html": [
              "\n",
              "  <div id=\"df-981cdd44-501c-448f-9884-beb1c70ced1f\">\n",
              "    <div class=\"colab-df-container\">\n",
              "      <div>\n",
              "<style scoped>\n",
              "    .dataframe tbody tr th:only-of-type {\n",
              "        vertical-align: middle;\n",
              "    }\n",
              "\n",
              "    .dataframe tbody tr th {\n",
              "        vertical-align: top;\n",
              "    }\n",
              "\n",
              "    .dataframe thead th {\n",
              "        text-align: right;\n",
              "    }\n",
              "</style>\n",
              "<table border=\"1\" class=\"dataframe\">\n",
              "  <thead>\n",
              "    <tr style=\"text-align: right;\">\n",
              "      <th></th>\n",
              "      <th>vendor_id</th>\n",
              "      <th>passenger_count</th>\n",
              "      <th>pickup_longitude</th>\n",
              "      <th>pickup_latitude</th>\n",
              "      <th>dropoff_longitude</th>\n",
              "      <th>dropoff_latitude</th>\n",
              "      <th>trip_duration</th>\n",
              "    </tr>\n",
              "  </thead>\n",
              "  <tbody>\n",
              "    <tr>\n",
              "      <th>count</th>\n",
              "      <td>1,458,644.00000</td>\n",
              "      <td>1,458,644.00000</td>\n",
              "      <td>1,458,644.00000</td>\n",
              "      <td>1,458,644.00000</td>\n",
              "      <td>1,458,644.00000</td>\n",
              "      <td>1,458,644.00000</td>\n",
              "      <td>1,458,644.00000</td>\n",
              "    </tr>\n",
              "    <tr>\n",
              "      <th>mean</th>\n",
              "      <td>1.53495</td>\n",
              "      <td>1.66453</td>\n",
              "      <td>-73.97349</td>\n",
              "      <td>40.75092</td>\n",
              "      <td>-73.97342</td>\n",
              "      <td>40.75180</td>\n",
              "      <td>959.49227</td>\n",
              "    </tr>\n",
              "    <tr>\n",
              "      <th>std</th>\n",
              "      <td>0.49878</td>\n",
              "      <td>1.31424</td>\n",
              "      <td>0.07090</td>\n",
              "      <td>0.03288</td>\n",
              "      <td>0.07064</td>\n",
              "      <td>0.03589</td>\n",
              "      <td>5,237.43172</td>\n",
              "    </tr>\n",
              "    <tr>\n",
              "      <th>min</th>\n",
              "      <td>1.00000</td>\n",
              "      <td>0.00000</td>\n",
              "      <td>-121.93334</td>\n",
              "      <td>34.35970</td>\n",
              "      <td>-121.93330</td>\n",
              "      <td>32.18114</td>\n",
              "      <td>1.00000</td>\n",
              "    </tr>\n",
              "    <tr>\n",
              "      <th>25%</th>\n",
              "      <td>1.00000</td>\n",
              "      <td>1.00000</td>\n",
              "      <td>-73.99187</td>\n",
              "      <td>40.73735</td>\n",
              "      <td>-73.99133</td>\n",
              "      <td>40.73588</td>\n",
              "      <td>397.00000</td>\n",
              "    </tr>\n",
              "    <tr>\n",
              "      <th>50%</th>\n",
              "      <td>2.00000</td>\n",
              "      <td>1.00000</td>\n",
              "      <td>-73.98174</td>\n",
              "      <td>40.75410</td>\n",
              "      <td>-73.97975</td>\n",
              "      <td>40.75452</td>\n",
              "      <td>662.00000</td>\n",
              "    </tr>\n",
              "    <tr>\n",
              "      <th>75%</th>\n",
              "      <td>2.00000</td>\n",
              "      <td>2.00000</td>\n",
              "      <td>-73.96733</td>\n",
              "      <td>40.76836</td>\n",
              "      <td>-73.96301</td>\n",
              "      <td>40.76981</td>\n",
              "      <td>1,075.00000</td>\n",
              "    </tr>\n",
              "    <tr>\n",
              "      <th>max</th>\n",
              "      <td>2.00000</td>\n",
              "      <td>9.00000</td>\n",
              "      <td>-61.33553</td>\n",
              "      <td>51.88108</td>\n",
              "      <td>-61.33553</td>\n",
              "      <td>43.92103</td>\n",
              "      <td>3,526,282.00000</td>\n",
              "    </tr>\n",
              "  </tbody>\n",
              "</table>\n",
              "</div>\n",
              "      <button class=\"colab-df-convert\" onclick=\"convertToInteractive('df-981cdd44-501c-448f-9884-beb1c70ced1f')\"\n",
              "              title=\"Convert this dataframe to an interactive table.\"\n",
              "              style=\"display:none;\">\n",
              "        \n",
              "  <svg xmlns=\"http://www.w3.org/2000/svg\" height=\"24px\"viewBox=\"0 0 24 24\"\n",
              "       width=\"24px\">\n",
              "    <path d=\"M0 0h24v24H0V0z\" fill=\"none\"/>\n",
              "    <path d=\"M18.56 5.44l.94 2.06.94-2.06 2.06-.94-2.06-.94-.94-2.06-.94 2.06-2.06.94zm-11 1L8.5 8.5l.94-2.06 2.06-.94-2.06-.94L8.5 2.5l-.94 2.06-2.06.94zm10 10l.94 2.06.94-2.06 2.06-.94-2.06-.94-.94-2.06-.94 2.06-2.06.94z\"/><path d=\"M17.41 7.96l-1.37-1.37c-.4-.4-.92-.59-1.43-.59-.52 0-1.04.2-1.43.59L10.3 9.45l-7.72 7.72c-.78.78-.78 2.05 0 2.83L4 21.41c.39.39.9.59 1.41.59.51 0 1.02-.2 1.41-.59l7.78-7.78 2.81-2.81c.8-.78.8-2.07 0-2.86zM5.41 20L4 18.59l7.72-7.72 1.47 1.35L5.41 20z\"/>\n",
              "  </svg>\n",
              "      </button>\n",
              "      \n",
              "  <style>\n",
              "    .colab-df-container {\n",
              "      display:flex;\n",
              "      flex-wrap:wrap;\n",
              "      gap: 12px;\n",
              "    }\n",
              "\n",
              "    .colab-df-convert {\n",
              "      background-color: #E8F0FE;\n",
              "      border: none;\n",
              "      border-radius: 50%;\n",
              "      cursor: pointer;\n",
              "      display: none;\n",
              "      fill: #1967D2;\n",
              "      height: 32px;\n",
              "      padding: 0 0 0 0;\n",
              "      width: 32px;\n",
              "    }\n",
              "\n",
              "    .colab-df-convert:hover {\n",
              "      background-color: #E2EBFA;\n",
              "      box-shadow: 0px 1px 2px rgba(60, 64, 67, 0.3), 0px 1px 3px 1px rgba(60, 64, 67, 0.15);\n",
              "      fill: #174EA6;\n",
              "    }\n",
              "\n",
              "    [theme=dark] .colab-df-convert {\n",
              "      background-color: #3B4455;\n",
              "      fill: #D2E3FC;\n",
              "    }\n",
              "\n",
              "    [theme=dark] .colab-df-convert:hover {\n",
              "      background-color: #434B5C;\n",
              "      box-shadow: 0px 1px 3px 1px rgba(0, 0, 0, 0.15);\n",
              "      filter: drop-shadow(0px 1px 2px rgba(0, 0, 0, 0.3));\n",
              "      fill: #FFFFFF;\n",
              "    }\n",
              "  </style>\n",
              "\n",
              "      <script>\n",
              "        const buttonEl =\n",
              "          document.querySelector('#df-981cdd44-501c-448f-9884-beb1c70ced1f button.colab-df-convert');\n",
              "        buttonEl.style.display =\n",
              "          google.colab.kernel.accessAllowed ? 'block' : 'none';\n",
              "\n",
              "        async function convertToInteractive(key) {\n",
              "          const element = document.querySelector('#df-981cdd44-501c-448f-9884-beb1c70ced1f');\n",
              "          const dataTable =\n",
              "            await google.colab.kernel.invokeFunction('convertToInteractive',\n",
              "                                                     [key], {});\n",
              "          if (!dataTable) return;\n",
              "\n",
              "          const docLinkHtml = 'Like what you see? Visit the ' +\n",
              "            '<a target=\"_blank\" href=https://colab.research.google.com/notebooks/data_table.ipynb>data table notebook</a>'\n",
              "            + ' to learn more about interactive tables.';\n",
              "          element.innerHTML = '';\n",
              "          dataTable['output_type'] = 'display_data';\n",
              "          await google.colab.output.renderOutput(dataTable, element);\n",
              "          const docLink = document.createElement('div');\n",
              "          docLink.innerHTML = docLinkHtml;\n",
              "          element.appendChild(docLink);\n",
              "        }\n",
              "      </script>\n",
              "    </div>\n",
              "  </div>\n",
              "  "
            ]
          },
          "metadata": {},
          "execution_count": 11
        }
      ]
    },
    {
      "cell_type": "markdown",
      "source": [
        "\n",
        "*   Passenegrs count takes values b/w 0-9, average passengers being either 1 or 2.\n",
        "*   Max trip duration is 3526282 seconds or 980 hours aprrox which is not feasible. Clearly, there are some outliers present.\n",
        "\n",
        "\n"
      ],
      "metadata": {
        "id": "GeEdT0F8bV0o"
      }
    },
    {
      "cell_type": "markdown",
      "source": [
        "##**Feature Creation**"
      ],
      "metadata": {
        "id": "xyF-NY5yeAwc"
      }
    },
    {
      "cell_type": "markdown",
      "source": [
        "\n",
        "\n",
        "* Now we will convert pick and drop datetime from object type to python datetime.\n",
        "* It helps us to perform a lot more operations and makes our analysis better.  \n",
        "\n"
      ],
      "metadata": {
        "id": "4gjvxWcefPPh"
      }
    },
    {
      "cell_type": "code",
      "source": [
        "taxi_df['dropoff_datetime'] = pd.to_datetime(taxi_df['dropoff_datetime'])\n",
        "taxi_df['pickup_datetime'] = pd.to_datetime(taxi_df['pickup_datetime'])\n",
        "\n",
        "taxi_df[['dropoff_datetime', 'pickup_datetime']].dtypes"
      ],
      "metadata": {
        "colab": {
          "base_uri": "https://localhost:8080/"
        },
        "id": "_TTHWOyIbxLO",
        "outputId": "f37b4741-37ea-4065-ed8d-1acfd01d630d"
      },
      "execution_count": 12,
      "outputs": [
        {
          "output_type": "execute_result",
          "data": {
            "text/plain": [
              "dropoff_datetime    datetime64[ns]\n",
              "pickup_datetime     datetime64[ns]\n",
              "dtype: object"
            ]
          },
          "metadata": {},
          "execution_count": 12
        }
      ]
    },
    {
      "cell_type": "markdown",
      "source": [
        "## Now let's extract"
      ],
      "metadata": {
        "id": "XbrEdTMShN9A"
      }
    },
    {
      "cell_type": "code",
      "source": [
        "#weekday\n",
        "taxi_df['pickup_weekday'] = taxi_df['pickup_datetime'].dt.weekday\n",
        "taxi_df['dropoff_weekday'] = taxi_df['dropoff_datetime'].dt.weekday\n",
        "\n",
        "#day\n",
        "taxi_df['pickup_day'] = taxi_df['pickup_datetime'].dt.day\n",
        "taxi_df['dropoff_day'] = taxi_df['dropoff_datetime'].dt.day\n",
        "\n",
        "\n",
        "#month\n",
        "taxi_df['pickup_month'] = taxi_df['pickup_datetime'].dt.month\n",
        "taxi_df['dropoff_month'] = taxi_df['dropoff_datetime'].dt.month\n",
        "\n",
        "\n",
        "#year\n",
        "taxi_df['pickup_year'] = taxi_df['pickup_datetime'].dt.year\n",
        "taxi_df['dropoff_year'] = taxi_df['dropoff_datetime'].dt.year\n",
        "\n",
        "\n",
        "#hour\n",
        "taxi_df['pickup_hour'] = taxi_df['pickup_datetime'].dt.hour\n",
        "taxi_df['dropoff_hour'] = taxi_df['dropoff_datetime'].dt.hour\n",
        "\n"
      ],
      "metadata": {
        "id": "J5bJuy0OhL0W"
      },
      "execution_count": 13,
      "outputs": []
    },
    {
      "cell_type": "markdown",
      "source": [
        "## Now let's calculate distance travelled"
      ],
      "metadata": {
        "id": "ThnhhBF-lrRo"
      }
    },
    {
      "cell_type": "markdown",
      "source": [
        "To calculate distance we will be using haversine formula"
      ],
      "metadata": {
        "id": "KwNSBJRFl10F"
      }
    },
    {
      "cell_type": "code",
      "source": [
        "!pip install haversine"
      ],
      "metadata": {
        "colab": {
          "base_uri": "https://localhost:8080/"
        },
        "id": "JGXz1piEm2dD",
        "outputId": "dd69abe7-424c-482c-ccdb-ae5a460e92c5"
      },
      "execution_count": 35,
      "outputs": [
        {
          "output_type": "stream",
          "name": "stdout",
          "text": [
            "Looking in indexes: https://pypi.org/simple, https://us-python.pkg.dev/colab-wheels/public/simple/\n",
            "Requirement already satisfied: haversine in /usr/local/lib/python3.7/dist-packages (2.6.0)\n"
          ]
        }
      ]
    },
    {
      "cell_type": "code",
      "source": [
        "from haversine import haversine"
      ],
      "metadata": {
        "id": "O55n2oBpmjRz"
      },
      "execution_count": 36,
      "outputs": []
    },
    {
      "cell_type": "code",
      "source": [
        "taxi_df['distance'] = taxi_df.apply(lambda x: haversine((x['pickup_latitude'], x['pickup_longitude']),\n",
        "                                                        (x['dropoff_latitude'], x['dropoff_longitude']), unit = 'km'), axis = 1)"
      ],
      "metadata": {
        "id": "HZwBQ9f-m74e"
      },
      "execution_count": 37,
      "outputs": []
    },
    {
      "cell_type": "code",
      "source": [
        "taxi_df.head()"
      ],
      "metadata": {
        "colab": {
          "base_uri": "https://localhost:8080/",
          "height": 418
        },
        "id": "0-ZrbOJyqkbc",
        "outputId": "5feac902-bd1c-47e9-d0b0-31149a43eff9"
      },
      "execution_count": 38,
      "outputs": [
        {
          "output_type": "execute_result",
          "data": {
            "text/plain": [
              "           vendor_id     pickup_datetime    dropoff_datetime  passenger_count  \\\n",
              "id                                                                              \n",
              "id2875421          2 2016-03-14 17:24:55 2016-03-14 17:32:30                1   \n",
              "id2377394          1 2016-06-12 00:43:35 2016-06-12 00:54:38                1   \n",
              "id3858529          2 2016-01-19 11:35:24 2016-01-19 12:10:48                1   \n",
              "id3504673          2 2016-04-06 19:32:31 2016-04-06 19:39:40                1   \n",
              "id2181028          2 2016-03-26 13:30:55 2016-03-26 13:38:10                1   \n",
              "\n",
              "           pickup_longitude  pickup_latitude  dropoff_longitude  \\\n",
              "id                                                                \n",
              "id2875421        -73.982155        40.767937         -73.964630   \n",
              "id2377394        -73.980415        40.738564         -73.999481   \n",
              "id3858529        -73.979027        40.763939         -74.005333   \n",
              "id3504673        -74.010040        40.719971         -74.012268   \n",
              "id2181028        -73.973053        40.793209         -73.972923   \n",
              "\n",
              "           dropoff_latitude store_and_fwd_flag  trip_duration  ...  \\\n",
              "id                                                             ...   \n",
              "id2875421         40.765602                  N            455  ...   \n",
              "id2377394         40.731152                  N            663  ...   \n",
              "id3858529         40.710087                  N           2124  ...   \n",
              "id3504673         40.706718                  N            429  ...   \n",
              "id2181028         40.782520                  N            435  ...   \n",
              "\n",
              "           pickup_day  dropoff_day  pickup_month  dropoff_month  pickup_year  \\\n",
              "id                                                                             \n",
              "id2875421          14           14             3              3         2016   \n",
              "id2377394          12           12             6              6         2016   \n",
              "id3858529          19           19             1              1         2016   \n",
              "id3504673           6            6             4              4         2016   \n",
              "id2181028          26           26             3              3         2016   \n",
              "\n",
              "           dropoff_year  pickup_hour  dropoff_hour      Timezones  distance  \n",
              "id                                                                           \n",
              "id2875421          2016           17            17        Evening  1.498523  \n",
              "id2377394          2016            0             0  Early Morning  1.805510  \n",
              "id3858529          2016           11            12        Morning  6.385107  \n",
              "id3504673          2016           19            19        Evening  1.485500  \n",
              "id2181028          2016           13            13      Afternoon  1.188590  \n",
              "\n",
              "[5 rows x 22 columns]"
            ],
            "text/html": [
              "\n",
              "  <div id=\"df-a5808d88-6464-4a1f-a97a-76d75bb402a1\">\n",
              "    <div class=\"colab-df-container\">\n",
              "      <div>\n",
              "<style scoped>\n",
              "    .dataframe tbody tr th:only-of-type {\n",
              "        vertical-align: middle;\n",
              "    }\n",
              "\n",
              "    .dataframe tbody tr th {\n",
              "        vertical-align: top;\n",
              "    }\n",
              "\n",
              "    .dataframe thead th {\n",
              "        text-align: right;\n",
              "    }\n",
              "</style>\n",
              "<table border=\"1\" class=\"dataframe\">\n",
              "  <thead>\n",
              "    <tr style=\"text-align: right;\">\n",
              "      <th></th>\n",
              "      <th>vendor_id</th>\n",
              "      <th>pickup_datetime</th>\n",
              "      <th>dropoff_datetime</th>\n",
              "      <th>passenger_count</th>\n",
              "      <th>pickup_longitude</th>\n",
              "      <th>pickup_latitude</th>\n",
              "      <th>dropoff_longitude</th>\n",
              "      <th>dropoff_latitude</th>\n",
              "      <th>store_and_fwd_flag</th>\n",
              "      <th>trip_duration</th>\n",
              "      <th>...</th>\n",
              "      <th>pickup_day</th>\n",
              "      <th>dropoff_day</th>\n",
              "      <th>pickup_month</th>\n",
              "      <th>dropoff_month</th>\n",
              "      <th>pickup_year</th>\n",
              "      <th>dropoff_year</th>\n",
              "      <th>pickup_hour</th>\n",
              "      <th>dropoff_hour</th>\n",
              "      <th>Timezones</th>\n",
              "      <th>distance</th>\n",
              "    </tr>\n",
              "    <tr>\n",
              "      <th>id</th>\n",
              "      <th></th>\n",
              "      <th></th>\n",
              "      <th></th>\n",
              "      <th></th>\n",
              "      <th></th>\n",
              "      <th></th>\n",
              "      <th></th>\n",
              "      <th></th>\n",
              "      <th></th>\n",
              "      <th></th>\n",
              "      <th></th>\n",
              "      <th></th>\n",
              "      <th></th>\n",
              "      <th></th>\n",
              "      <th></th>\n",
              "      <th></th>\n",
              "      <th></th>\n",
              "      <th></th>\n",
              "      <th></th>\n",
              "      <th></th>\n",
              "      <th></th>\n",
              "    </tr>\n",
              "  </thead>\n",
              "  <tbody>\n",
              "    <tr>\n",
              "      <th>id2875421</th>\n",
              "      <td>2</td>\n",
              "      <td>2016-03-14 17:24:55</td>\n",
              "      <td>2016-03-14 17:32:30</td>\n",
              "      <td>1</td>\n",
              "      <td>-73.982155</td>\n",
              "      <td>40.767937</td>\n",
              "      <td>-73.964630</td>\n",
              "      <td>40.765602</td>\n",
              "      <td>N</td>\n",
              "      <td>455</td>\n",
              "      <td>...</td>\n",
              "      <td>14</td>\n",
              "      <td>14</td>\n",
              "      <td>3</td>\n",
              "      <td>3</td>\n",
              "      <td>2016</td>\n",
              "      <td>2016</td>\n",
              "      <td>17</td>\n",
              "      <td>17</td>\n",
              "      <td>Evening</td>\n",
              "      <td>1.498523</td>\n",
              "    </tr>\n",
              "    <tr>\n",
              "      <th>id2377394</th>\n",
              "      <td>1</td>\n",
              "      <td>2016-06-12 00:43:35</td>\n",
              "      <td>2016-06-12 00:54:38</td>\n",
              "      <td>1</td>\n",
              "      <td>-73.980415</td>\n",
              "      <td>40.738564</td>\n",
              "      <td>-73.999481</td>\n",
              "      <td>40.731152</td>\n",
              "      <td>N</td>\n",
              "      <td>663</td>\n",
              "      <td>...</td>\n",
              "      <td>12</td>\n",
              "      <td>12</td>\n",
              "      <td>6</td>\n",
              "      <td>6</td>\n",
              "      <td>2016</td>\n",
              "      <td>2016</td>\n",
              "      <td>0</td>\n",
              "      <td>0</td>\n",
              "      <td>Early Morning</td>\n",
              "      <td>1.805510</td>\n",
              "    </tr>\n",
              "    <tr>\n",
              "      <th>id3858529</th>\n",
              "      <td>2</td>\n",
              "      <td>2016-01-19 11:35:24</td>\n",
              "      <td>2016-01-19 12:10:48</td>\n",
              "      <td>1</td>\n",
              "      <td>-73.979027</td>\n",
              "      <td>40.763939</td>\n",
              "      <td>-74.005333</td>\n",
              "      <td>40.710087</td>\n",
              "      <td>N</td>\n",
              "      <td>2124</td>\n",
              "      <td>...</td>\n",
              "      <td>19</td>\n",
              "      <td>19</td>\n",
              "      <td>1</td>\n",
              "      <td>1</td>\n",
              "      <td>2016</td>\n",
              "      <td>2016</td>\n",
              "      <td>11</td>\n",
              "      <td>12</td>\n",
              "      <td>Morning</td>\n",
              "      <td>6.385107</td>\n",
              "    </tr>\n",
              "    <tr>\n",
              "      <th>id3504673</th>\n",
              "      <td>2</td>\n",
              "      <td>2016-04-06 19:32:31</td>\n",
              "      <td>2016-04-06 19:39:40</td>\n",
              "      <td>1</td>\n",
              "      <td>-74.010040</td>\n",
              "      <td>40.719971</td>\n",
              "      <td>-74.012268</td>\n",
              "      <td>40.706718</td>\n",
              "      <td>N</td>\n",
              "      <td>429</td>\n",
              "      <td>...</td>\n",
              "      <td>6</td>\n",
              "      <td>6</td>\n",
              "      <td>4</td>\n",
              "      <td>4</td>\n",
              "      <td>2016</td>\n",
              "      <td>2016</td>\n",
              "      <td>19</td>\n",
              "      <td>19</td>\n",
              "      <td>Evening</td>\n",
              "      <td>1.485500</td>\n",
              "    </tr>\n",
              "    <tr>\n",
              "      <th>id2181028</th>\n",
              "      <td>2</td>\n",
              "      <td>2016-03-26 13:30:55</td>\n",
              "      <td>2016-03-26 13:38:10</td>\n",
              "      <td>1</td>\n",
              "      <td>-73.973053</td>\n",
              "      <td>40.793209</td>\n",
              "      <td>-73.972923</td>\n",
              "      <td>40.782520</td>\n",
              "      <td>N</td>\n",
              "      <td>435</td>\n",
              "      <td>...</td>\n",
              "      <td>26</td>\n",
              "      <td>26</td>\n",
              "      <td>3</td>\n",
              "      <td>3</td>\n",
              "      <td>2016</td>\n",
              "      <td>2016</td>\n",
              "      <td>13</td>\n",
              "      <td>13</td>\n",
              "      <td>Afternoon</td>\n",
              "      <td>1.188590</td>\n",
              "    </tr>\n",
              "  </tbody>\n",
              "</table>\n",
              "<p>5 rows × 22 columns</p>\n",
              "</div>\n",
              "      <button class=\"colab-df-convert\" onclick=\"convertToInteractive('df-a5808d88-6464-4a1f-a97a-76d75bb402a1')\"\n",
              "              title=\"Convert this dataframe to an interactive table.\"\n",
              "              style=\"display:none;\">\n",
              "        \n",
              "  <svg xmlns=\"http://www.w3.org/2000/svg\" height=\"24px\"viewBox=\"0 0 24 24\"\n",
              "       width=\"24px\">\n",
              "    <path d=\"M0 0h24v24H0V0z\" fill=\"none\"/>\n",
              "    <path d=\"M18.56 5.44l.94 2.06.94-2.06 2.06-.94-2.06-.94-.94-2.06-.94 2.06-2.06.94zm-11 1L8.5 8.5l.94-2.06 2.06-.94-2.06-.94L8.5 2.5l-.94 2.06-2.06.94zm10 10l.94 2.06.94-2.06 2.06-.94-2.06-.94-.94-2.06-.94 2.06-2.06.94z\"/><path d=\"M17.41 7.96l-1.37-1.37c-.4-.4-.92-.59-1.43-.59-.52 0-1.04.2-1.43.59L10.3 9.45l-7.72 7.72c-.78.78-.78 2.05 0 2.83L4 21.41c.39.39.9.59 1.41.59.51 0 1.02-.2 1.41-.59l7.78-7.78 2.81-2.81c.8-.78.8-2.07 0-2.86zM5.41 20L4 18.59l7.72-7.72 1.47 1.35L5.41 20z\"/>\n",
              "  </svg>\n",
              "      </button>\n",
              "      \n",
              "  <style>\n",
              "    .colab-df-container {\n",
              "      display:flex;\n",
              "      flex-wrap:wrap;\n",
              "      gap: 12px;\n",
              "    }\n",
              "\n",
              "    .colab-df-convert {\n",
              "      background-color: #E8F0FE;\n",
              "      border: none;\n",
              "      border-radius: 50%;\n",
              "      cursor: pointer;\n",
              "      display: none;\n",
              "      fill: #1967D2;\n",
              "      height: 32px;\n",
              "      padding: 0 0 0 0;\n",
              "      width: 32px;\n",
              "    }\n",
              "\n",
              "    .colab-df-convert:hover {\n",
              "      background-color: #E2EBFA;\n",
              "      box-shadow: 0px 1px 2px rgba(60, 64, 67, 0.3), 0px 1px 3px 1px rgba(60, 64, 67, 0.15);\n",
              "      fill: #174EA6;\n",
              "    }\n",
              "\n",
              "    [theme=dark] .colab-df-convert {\n",
              "      background-color: #3B4455;\n",
              "      fill: #D2E3FC;\n",
              "    }\n",
              "\n",
              "    [theme=dark] .colab-df-convert:hover {\n",
              "      background-color: #434B5C;\n",
              "      box-shadow: 0px 1px 3px 1px rgba(0, 0, 0, 0.15);\n",
              "      filter: drop-shadow(0px 1px 2px rgba(0, 0, 0, 0.3));\n",
              "      fill: #FFFFFF;\n",
              "    }\n",
              "  </style>\n",
              "\n",
              "      <script>\n",
              "        const buttonEl =\n",
              "          document.querySelector('#df-a5808d88-6464-4a1f-a97a-76d75bb402a1 button.colab-df-convert');\n",
              "        buttonEl.style.display =\n",
              "          google.colab.kernel.accessAllowed ? 'block' : 'none';\n",
              "\n",
              "        async function convertToInteractive(key) {\n",
              "          const element = document.querySelector('#df-a5808d88-6464-4a1f-a97a-76d75bb402a1');\n",
              "          const dataTable =\n",
              "            await google.colab.kernel.invokeFunction('convertToInteractive',\n",
              "                                                     [key], {});\n",
              "          if (!dataTable) return;\n",
              "\n",
              "          const docLinkHtml = 'Like what you see? Visit the ' +\n",
              "            '<a target=\"_blank\" href=https://colab.research.google.com/notebooks/data_table.ipynb>data table notebook</a>'\n",
              "            + ' to learn more about interactive tables.';\n",
              "          element.innerHTML = '';\n",
              "          dataTable['output_type'] = 'display_data';\n",
              "          await google.colab.output.renderOutput(dataTable, element);\n",
              "          const docLink = document.createElement('div');\n",
              "          docLink.innerHTML = docLinkHtml;\n",
              "          element.appendChild(docLink);\n",
              "        }\n",
              "      </script>\n",
              "    </div>\n",
              "  </div>\n",
              "  "
            ]
          },
          "metadata": {},
          "execution_count": 38
        }
      ]
    },
    {
      "cell_type": "markdown",
      "source": [
        "##**Preprocessing**"
      ],
      "metadata": {
        "id": "02UCnaGusCsV"
      }
    },
    {
      "cell_type": "markdown",
      "source": [
        "Since we have already extracted from pickup and dropoff datetime, let's drop these columns"
      ],
      "metadata": {
        "id": "GsMUn-rqtk0f"
      }
    },
    {
      "cell_type": "code",
      "source": [
        "taxi_df.drop(columns = ['pickup_datetime', 'dropoff_datetime'], inplace = True)"
      ],
      "metadata": {
        "id": "IYxFhpeSsAbH"
      },
      "execution_count": 39,
      "outputs": []
    },
    {
      "cell_type": "markdown",
      "source": [
        "Now we will covert the column store and fwd flag in binary values 0 and 1"
      ],
      "metadata": {
        "id": "2vnvWPR1uQfm"
      }
    },
    {
      "cell_type": "code",
      "source": [
        "''' store and fwd flag takes only two values N and Y. So we can encode them as 0 for N\n",
        " and 1 for Y'''\n",
        "\n",
        "print(taxi_df['store_and_fwd_flag'].unique())"
      ],
      "metadata": {
        "colab": {
          "base_uri": "https://localhost:8080/"
        },
        "id": "jExbVi_2uOkT",
        "outputId": "9dc046b4-9043-4fa9-f686-22a45e74be45"
      },
      "execution_count": 40,
      "outputs": [
        {
          "output_type": "stream",
          "name": "stdout",
          "text": [
            "['N' 'Y']\n"
          ]
        }
      ]
    },
    {
      "cell_type": "markdown",
      "source": [
        "We will do this with the of python class LabelEncoder"
      ],
      "metadata": {
        "id": "J614uKxyxlhQ"
      }
    },
    {
      "cell_type": "code",
      "source": [
        "from sklearn.preprocessing import LabelEncoder # importing the class LabelEncoder\n",
        "\n",
        "label_encoder = LabelEncoder() # creating an object of class labelEncoder \n",
        "\n",
        "taxi_df['store_and_fwd_flag'] = label_encoder.fit_transform(taxi_df['store_and_fwd_flag']) # apply the method fit_transform of LabelEncoder\n",
        "                                                                                           # to convert them into binary values"
      ],
      "metadata": {
        "id": "IBzq3kM7wwY9"
      },
      "execution_count": 41,
      "outputs": []
    },
    {
      "cell_type": "code",
      "source": [
        "print(taxi_df['store_and_fwd_flag'].unique())"
      ],
      "metadata": {
        "colab": {
          "base_uri": "https://localhost:8080/"
        },
        "id": "d0dapq8HxbQt",
        "outputId": "1afc32bd-7307-4902-ce15-76456c403a3e"
      },
      "execution_count": 42,
      "outputs": [
        {
          "output_type": "stream",
          "name": "stdout",
          "text": [
            "[0 1]\n"
          ]
        }
      ]
    },
    {
      "cell_type": "markdown",
      "source": [
        "##**Exploratory Data Analysis**"
      ],
      "metadata": {
        "id": "RZZX7i-a0ZmM"
      }
    },
    {
      "cell_type": "markdown",
      "source": [
        "##Checking for Outliers"
      ],
      "metadata": {
        "id": "Bwt8tOr6zGf9"
      }
    },
    {
      "cell_type": "code",
      "source": [
        "rcParams['figure.figsize'] = 10,15\n",
        "\n",
        "sns.boxplot(taxi_df['trip_duration']);"
      ],
      "metadata": {
        "colab": {
          "base_uri": "https://localhost:8080/",
          "height": 886
        },
        "id": "mqj35bMEyjok",
        "outputId": "7f680511-d292-45ba-aa3a-a54f839153cf"
      },
      "execution_count": 43,
      "outputs": [
        {
          "output_type": "display_data",
          "data": {
            "text/plain": [
              "<Figure size 720x1080 with 1 Axes>"
            ],
            "image/png": "[encoded data removed]"
          },
          "metadata": {}
        }
      ]
    },
    {
      "cell_type": "markdown",
      "source": [
        "From the boxplot we can see that there are some trips which are around 2000000 seconds or 555 hours and beyond. Clearly, it not feasible for a taxi to run that long. Hence we will get rid of such trips."
      ],
      "metadata": {
        "id": "X_O-eFF22HFk"
      }
    },
    {
      "cell_type": "code",
      "source": [
        "taxi_df['trip_duration'].sort_values(ascending = False)"
      ],
      "metadata": {
        "colab": {
          "base_uri": "https://localhost:8080/"
        },
        "id": "0sbKZZYk1RLv",
        "outputId": "f5a34363-6d10-47b4-9c38-e0ef14bb870d"
      },
      "execution_count": 44,
      "outputs": [
        {
          "output_type": "execute_result",
          "data": {
            "text/plain": [
              "id\n",
              "id0053347    3526282\n",
              "id1325766    2227612\n",
              "id0369307    2049578\n",
              "id1864733    1939736\n",
              "id1942836      86392\n",
              "              ...   \n",
              "id0553321          1\n",
              "id0008221          1\n",
              "id3563137          1\n",
              "id2697717          1\n",
              "id2959956          1\n",
              "Name: trip_duration, Length: 1458644, dtype: int64"
            ]
          },
          "metadata": {},
          "execution_count": 44
        }
      ]
    },
    {
      "cell_type": "code",
      "source": [
        "# There are major differences b/w trip durations after 'id1942836'. Thus, we will remove the trips after that id\n",
        "\n",
        "taxi_df.drop(taxi_df[taxi_df['trip_duration'] == 3526282].index, inplace = True)\n",
        "taxi_df.drop(taxi_df[taxi_df['trip_duration'] == 2227612].index, inplace = True)\n",
        "taxi_df.drop(taxi_df[taxi_df['trip_duration'] == 2049578].index, inplace = True)\n",
        "taxi_df.drop(taxi_df[taxi_df['trip_duration'] == 1939736].index, inplace = True)\n"
      ],
      "metadata": {
        "id": "_RuRmHKr3cgA"
      },
      "execution_count": 45,
      "outputs": []
    },
    {
      "cell_type": "markdown",
      "source": [
        "##Univariate Analysis"
      ],
      "metadata": {
        "id": "AqVGIcDN-WGr"
      }
    },
    {
      "cell_type": "markdown",
      "source": [
        "###Average trip duration"
      ],
      "metadata": {
        "id": "JRBtAojj8tEv"
      }
    },
    {
      "cell_type": "code",
      "source": [
        "rcParams['figure.figsize'] = 10,7\n",
        "\n",
        "sns.histplot(data = taxi_df, x= 'trip_duration', color = 'brown')\n",
        "plt.xlim(0,6000)\n",
        "plt.xlabel('Trip Duration')\n",
        "plt.title('Distribution of trip duration')\n",
        "plt.show();"
      ],
      "metadata": {
        "id": "1-58MC598qdM",
        "outputId": "c1697d52-c197-4124-c8a1-c5bc98e9823b",
        "colab": {
          "base_uri": "https://localhost:8080/",
          "height": 469
        }
      },
      "execution_count": 111,
      "outputs": [
        {
          "output_type": "display_data",
          "data": {
            "text/plain": [
              "<Figure size 720x504 with 1 Axes>"
            ],
            "image/png": "[encoded data removed]"
          },
          "metadata": {}
        }
      ]
    },
    {
      "cell_type": "markdown",
      "source": [
        "##**Insights**\n",
        "\n",
        "\n",
        "*   Average trip duration is around 500 seconds or 8.5 minutes \n",
        "\n"
      ],
      "metadata": {
        "id": "rCV0IYIO_BQL"
      }
    },
    {
      "cell_type": "markdown",
      "source": [
        "###Distribution of Vendor ID"
      ],
      "metadata": {
        "id": "r2Br0I83BSoA"
      }
    },
    {
      "cell_type": "code",
      "source": [
        "rcParams['figure.figsize'] = 6,6\n",
        "\n",
        "sns.countplot(taxi_df['vendor_id'])\n",
        "plt.title('Distibution of Vendor ID')\n",
        "plt.xlabel('vendor ID')\n",
        "plt.show();"
      ],
      "metadata": {
        "colab": {
          "base_uri": "https://localhost:8080/",
          "height": 415
        },
        "id": "C0Eux0tu-KKr",
        "outputId": "361552ce-4166-4e1a-d46c-a5a2c88dd76b"
      },
      "execution_count": 138,
      "outputs": [
        {
          "output_type": "display_data",
          "data": {
            "text/plain": [
              "<Figure size 432x432 with 1 Axes>"
            ],
            "image/png": "[encoded data removed]"
          },
          "metadata": {}
        }
      ]
    },
    {
      "cell_type": "markdown",
      "source": [
        "###**Insights**\n",
        "\n",
        "*  From the plot we can infer that vendor-2 is more preferred by the people of New York\n",
        "\n",
        "\n"
      ],
      "metadata": {
        "id": "MRL8YvMz_mJq"
      }
    },
    {
      "cell_type": "markdown",
      "source": [
        "###Distribution of passenger count "
      ],
      "metadata": {
        "id": "mY1lU00WBc_G"
      }
    },
    {
      "cell_type": "code",
      "source": [
        "rcParams['figure.figsize'] = 10,6\n",
        "\n",
        "sns.countplot(taxi_df['passenger_count'])\n",
        "plt.title('Distribution of passenegers count')\n",
        "plt.xlabel('Passenger count')\n",
        "plt.show();"
      ],
      "metadata": {
        "colab": {
          "base_uri": "https://localhost:8080/",
          "height": 415
        },
        "id": "6DdR9Df2BQgm",
        "outputId": "2982bdc7-45e7-4da1-a87c-e5c8e4c2e8b1"
      },
      "execution_count": 137,
      "outputs": [
        {
          "output_type": "display_data",
          "data": {
            "text/plain": [
              "<Figure size 720x432 with 1 Axes>"
            ],
            "image/png": "[encoded data removed]"
          },
          "metadata": {}
        }
      ]
    },
    {
      "cell_type": "markdown",
      "source": [
        "###**Insights**\n",
        "\n",
        "* Above barplot shows us that the most trips are done by either 1 or 2 passengers at a time\n",
        "\n",
        "\n"
      ],
      "metadata": {
        "id": "JyYgicBaCdFQ"
      }
    },
    {
      "cell_type": "markdown",
      "source": [
        "###Distribution of pickup latitude"
      ],
      "metadata": {
        "id": "72OiEPrdEuDy"
      }
    },
    {
      "cell_type": "code",
      "source": [
        "plt.figure(figsize=(15 , 8))\n",
        "\n",
        "pickups_by_weekdays = taxi_df['pickup_weekday'].value_counts()\n",
        "pickups_by_weekdays.sort_index().plot(kind = 'bar')\n",
        "plt.title('Distribution of trips per day')\n",
        "plt.xticks(rotation = 0, ticks= [0,1,2,3,4,5,6], labels = ['Mon', 'Tues', 'Wed', 'Thurs', 'Fri', 'Sat', 'Sun'])\n",
        "plt.xlabel('Days')\n",
        "plt.ylabel('Count')\n",
        "plt.show();"
      ],
      "metadata": {
        "colab": {
          "base_uri": "https://localhost:8080/",
          "height": 524
        },
        "id": "-KPikxhuE1hG",
        "outputId": "3f3f9bb3-50e3-4107-8358-b7b2dd910d85"
      },
      "execution_count": 93,
      "outputs": [
        {
          "output_type": "display_data",
          "data": {
            "text/plain": [
              "<Figure size 1080x576 with 1 Axes>"
            ],
            "image/png": "[encoded data removed]"
          },
          "metadata": {}
        }
      ]
    },
    {
      "cell_type": "markdown",
      "source": [
        "###**Insights**\n",
        "\n",
        "\n",
        "*   Thurday, Friday and Saturday are the preferred for riding a cab\n",
        "\n",
        "*   Monday and Sunday are least preferred by New Yorkers\n",
        "\n"
      ],
      "metadata": {
        "id": "ZItBfIoa7xSx"
      }
    },
    {
      "cell_type": "markdown",
      "source": [
        "###Distribution of Pickup hours\n"
      ],
      "metadata": {
        "id": "vsPNkJ15z7id"
      }
    },
    {
      "cell_type": "code",
      "source": [
        "rcParams['figure.figsize'] = 20,7 \n",
        "\n",
        "sns.countplot(data = taxi_df, x= 'pickup_hour', color = 'orange')\n",
        "plt.title('Distribution of Pickup hours')\n",
        "plt.xlabel('Pickup hour')\n",
        "plt.show();"
      ],
      "metadata": {
        "id": "wrF6NaOH0bx3",
        "outputId": "cd81cb96-d460-4e4a-efb6-34a04097b471",
        "colab": {
          "base_uri": "https://localhost:8080/",
          "height": 469
        }
      },
      "execution_count": 130,
      "outputs": [
        {
          "output_type": "display_data",
          "data": {
            "text/plain": [
              "<Figure size 1440x504 with 1 Axes>"
            ],
            "image/png": "[encoded data removed]"
          },
          "metadata": {}
        }
      ]
    },
    {
      "cell_type": "markdown",
      "source": [
        "###**Insights**\n",
        "\n",
        "\n",
        "*   People prefers taxis from 8 in the morning (probably office hours) and this growth increases with time.\n",
        "\n",
        "*   6-7 in evening is the most preferred time by the new yorkers\n",
        "\n",
        "* This graph also shows that new yorkers also prefer riding a cab at night as well 10pm - 12am\n",
        "\n",
        "\n"
      ],
      "metadata": {
        "id": "OzudQC7G4USQ"
      }
    },
    {
      "cell_type": "markdown",
      "source": [
        "###Average trip distance"
      ],
      "metadata": {
        "id": "eIN3Q0HiB3rR"
      }
    },
    {
      "cell_type": "code",
      "source": [
        "rcParams['figure.figsize'] = 10,7\n",
        "\n",
        "sns.histplot(data = taxi_df, x= 'distance', color = 'green')\n",
        "plt.xlim(0,30)\n",
        "plt.xlabel('Trip Distance')\n",
        "plt.title('Distribution of trip distance')\n",
        "plt.show();"
      ],
      "metadata": {
        "id": "x9C5ulXx4jqL",
        "outputId": "96291aa8-07af-408f-8712-afdff2f9611f",
        "colab": {
          "base_uri": "https://localhost:8080/",
          "height": 469
        }
      },
      "execution_count": 127,
      "outputs": [
        {
          "output_type": "display_data",
          "data": {
            "text/plain": [
              "<Figure size 720x504 with 1 Axes>"
            ],
            "image/png": "[encoded data removed]"
          },
          "metadata": {}
        }
      ]
    },
    {
      "cell_type": "markdown",
      "source": [
        "###**Insights**\n",
        "\n",
        "Average trip distance is around 3-4km which is reasonable since our trips last only for 7-8 minutes"
      ],
      "metadata": {
        "id": "twiRr996DlZv"
      }
    },
    {
      "cell_type": "markdown",
      "source": [
        "##Distribiution of store and fwd flag"
      ],
      "metadata": {
        "id": "nMR02-svDQ5M"
      }
    },
    {
      "cell_type": "code",
      "source": [
        "rcParams['figure.figsize'] = 5,5\n",
        "\n",
        "explode = [0.4,0]\n",
        "colors = ['lightpink','lightblue']\n",
        "plt.pie(taxi_df['store_and_fwd_flag'].value_counts(), wedgeprops={'edgecolor':'black'},autopct='%1.1f%%',\n",
        "        explode = explode, radius = 1.6,colors = colors, shadow = 'True')\n",
        "\n",
        "plt.title('Proportion of store and fwd flag', x = 0.3, y= 1.2)\n",
        "plt.legend(labels=['N','Y'])\n",
        "\n",
        "\n",
        "plt.tight_layout();"
      ],
      "metadata": {
        "id": "P8jT-bjYDZJK",
        "outputId": "e280636c-1c24-42a1-8413-6cee954ea673",
        "colab": {
          "base_uri": "https://localhost:8080/",
          "height": 353
        }
      },
      "execution_count": 178,
      "outputs": [
        {
          "output_type": "display_data",
          "data": {
            "text/plain": [
              "<Figure size 360x360 with 1 Axes>"
            ],
            "image/png": "[encoded data removed]"
          },
          "metadata": {}
        }
      ]
    },
    {
      "cell_type": "markdown",
      "source": [
        "##**Insights**\n",
        "\n",
        "\n",
        "* From the piechart we can see that less than 1% of trips are stored and forward trips\n",
        "\n"
      ],
      "metadata": {
        "id": "hUidJG8gJlLF"
      }
    },
    {
      "cell_type": "markdown",
      "source": [
        "##Bivariate Analysis"
      ],
      "metadata": {
        "id": "1tp72eioKI4a"
      }
    },
    {
      "cell_type": "code",
      "source": [
        ""
      ],
      "metadata": {
        "id": "APiqEjK5KUYu"
      },
      "execution_count": null,
      "outputs": []
    }
  ]
}